{
 "cells": [
  {
   "cell_type": "code",
   "execution_count": 3,
   "metadata": {},
   "outputs": [
    {
     "name": "stdout",
     "output_type": "stream",
     "text": [
      "Column headings:\n",
      "Index(['Jitter->F0_abs_dif', 'Jitter->F0_dif_percent',\n",
      "       'Jitter->F0_PQ5_classical_Schoentgen', 'Jitter->F0_PQ5_classical_Baken',\n",
      "       'Jitter->F0_PQ5_generalised_Schoentgen', 'Jitter->F0_abs0th_perturb',\n",
      "       'Jitter->F0_CV', 'Jitter->F0_TKEO_mean', 'Jitter->F0_TKEO_std',\n",
      "       'Jitter->F0_TKEO_prc5',\n",
      "       ...\n",
      "       'det_TKEO_std4_1_coef', 'det_TKEO_std4_2_coef', 'det_TKEO_std4_3_coef',\n",
      "       'det_TKEO_std4_4_coef', 'det_TKEO_std4_5_coef', 'det_TKEO_std4_6_coef',\n",
      "       'det_TKEO_std4_7_coef', 'det_TKEO_std4_8_coef', 'det_TKEO_std4_9_coef',\n",
      "       'det_TKEO_std4_10_coef'],\n",
      "      dtype='object', length=310)\n"
     ]
    }
   ],
   "source": [
    "import pandas as pd\n",
    "\n",
    "dataset = pd.read_excel('LSVT_voice_rehabilitation.xlsx')\n",
    "\n",
    "print(\"Column headings:\")\n",
    "print(dataset.columns)"
   ]
  }
 ],
 "metadata": {
  "kernelspec": {
   "display_name": "Python 3",
   "language": "python",
   "name": "python3"
  },
  "language_info": {
   "codemirror_mode": {
    "name": "ipython",
    "version": 3
   },
   "file_extension": ".py",
   "mimetype": "text/x-python",
   "name": "python",
   "nbconvert_exporter": "python",
   "pygments_lexer": "ipython3",
   "version": "3.8.3"
  }
 },
 "nbformat": 4,
 "nbformat_minor": 4
}
