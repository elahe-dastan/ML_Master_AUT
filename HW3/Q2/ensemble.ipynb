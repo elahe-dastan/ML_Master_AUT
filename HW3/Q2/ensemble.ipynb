{
 "cells": [
  {
   "cell_type": "code",
   "execution_count": 43,
   "metadata": {},
   "outputs": [],
   "source": [
    "import pandas as pd\n",
    "\n",
    "train = pd.read_csv(\"p2_data/data_train.csv\", header=None)\n",
    "target = train.shape[1]-1\n",
    "y = train[target].to_numpy()\n",
    "X = train.drop(columns=[target]).to_numpy()\n",
    "\n",
    "test = pd.read_csv(\"p2_data/data_test.csv\", header=None)\n",
    "y_test = test[target]\n",
    "X_test = test.drop(columns=[target])\n"
   ]
  },
  {
   "cell_type": "code",
   "execution_count": 68,
   "metadata": {},
   "outputs": [],
   "source": [
    "from sklearn import tree\n",
    "import random\n",
    "\n",
    "class RandomForest:\n",
    "    def __init__(self, n, depth):\n",
    "        self.n = n\n",
    "        self.depth = depth\n",
    "        self.trees = []\n",
    "        self.build()\n",
    "        \n",
    "    def build(self):\n",
    "        for i in range(self.n):\n",
    "            clf = tree.DecisionTreeClassifier(max_depth=self.depth)\n",
    "            self.trees.append(clf)\n",
    "    def fit(self, X, y, n):\n",
    "        for i in range(self.n):\n",
    "            features = []\n",
    "            for j in range(n):\n",
    "                features.append(random.randint(0, X.shape[1]-1))\n",
    "            self.trees[i] = self.trees[i].fit(X[:, features], y)\n",
    "#         print(X[0, features])\n",
    "#         print(self.trees[len(self.trees)-1].predict(X[0, features].reshape(1, 3)))"
   ]
  },
  {
   "cell_type": "code",
   "execution_count": 69,
   "metadata": {},
   "outputs": [
    {
     "name": "stdout",
     "output_type": "stream",
     "text": [
      "features\n",
      "[2, 7, 6]\n",
      "features\n",
      "[11, 13, 1]\n",
      "features\n",
      "[11, 1, 8]\n",
      "features\n",
      "[6, 6, 11]\n",
      "features\n",
      "[0, 13, 12]\n",
      "features\n",
      "[13, 5, 15]\n",
      "features\n",
      "[10, 6, 3]\n",
      "features\n",
      "[4, 2, 9]\n",
      "features\n",
      "[14, 0, 8]\n",
      "features\n",
      "[11, 6, 8]\n",
      "features\n",
      "[3, 1, 14]\n",
      "features\n",
      "[10, 5, 4]\n",
      "features\n",
      "[7, 14, 14]\n",
      "features\n",
      "[0, 7, 3]\n",
      "features\n",
      "[6, 9, 2]\n",
      "[26 23 27]\n",
      "[2]\n"
     ]
    }
   ],
   "source": [
    "clf = RandomForest(15, 3)\n",
    "clf.fit(X, y, 3)"
   ]
  }
 ],
 "metadata": {
  "kernelspec": {
   "display_name": "Python 3",
   "language": "python",
   "name": "python3"
  },
  "language_info": {
   "codemirror_mode": {
    "name": "ipython",
    "version": 3
   },
   "file_extension": ".py",
   "mimetype": "text/x-python",
   "name": "python",
   "nbconvert_exporter": "python",
   "pygments_lexer": "ipython3",
   "version": "3.8.3"
  }
 },
 "nbformat": 4,
 "nbformat_minor": 4
}
