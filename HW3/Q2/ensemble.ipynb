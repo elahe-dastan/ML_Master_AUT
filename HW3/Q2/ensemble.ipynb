{
 "cells": [
  {
   "cell_type": "code",
   "execution_count": 9,
   "metadata": {},
   "outputs": [
    {
     "name": "stdout",
     "output_type": "stream",
     "text": [
      "0       8\n",
      "1       8\n",
      "2       8\n",
      "3       9\n",
      "4       9\n",
      "       ..\n",
      "3493    4\n",
      "3494    2\n",
      "3495    0\n",
      "3496    0\n",
      "3497    4\n",
      "Name: 16, Length: 3498, dtype: int64\n"
     ]
    }
   ],
   "source": [
    "import pandas as pd\n",
    "\n",
    "train = pd.read_csv(\"p2_data/data_train.csv\", header=None)\n",
    "target = train.shape[1]-1\n",
    "y = train[target]\n",
    "X = train.drop(columns=[target])\n",
    "\n",
    "test = pd.read_csv(\"p2_data/data_test.csv\", header=None)\n",
    "y_test = test[target]\n",
    "X_test = test.drop(columns=[target])\n"
   ]
  },
  {
   "cell_type": "code",
   "execution_count": 13,
   "metadata": {},
   "outputs": [],
   "source": [
    "from sklearn import tree\n",
    "\n",
    "class RandomForest:\n",
    "    def __init__(self, n, depth):\n",
    "        self.n = n\n",
    "        self.depth = depth\n",
    "        self.trees = []\n",
    "        self.build()\n",
    "        \n",
    "    def build(self):\n",
    "        for i in range(self.n):\n",
    "            clf = tree.DecisionTreeClassifier(max_depth=self.depth)\n",
    "            self.trees.append(clf)\n",
    "    def fit(self, X, y, n):\n",
    "        "
   ]
  },
  {
   "cell_type": "code",
   "execution_count": 14,
   "metadata": {},
   "outputs": [
    {
     "name": "stdout",
     "output_type": "stream",
     "text": [
      "[DecisionTreeClassifier(max_depth=3), DecisionTreeClassifier(max_depth=3), DecisionTreeClassifier(max_depth=3), DecisionTreeClassifier(max_depth=3), DecisionTreeClassifier(max_depth=3), DecisionTreeClassifier(max_depth=3), DecisionTreeClassifier(max_depth=3), DecisionTreeClassifier(max_depth=3), DecisionTreeClassifier(max_depth=3), DecisionTreeClassifier(max_depth=3), DecisionTreeClassifier(max_depth=3), DecisionTreeClassifier(max_depth=3), DecisionTreeClassifier(max_depth=3), DecisionTreeClassifier(max_depth=3), DecisionTreeClassifier(max_depth=3)]\n"
     ]
    }
   ],
   "source": [
    "RandomForest(15, 3)\n",
    "random.randint(, )"
   ]
  }
 ],
 "metadata": {
  "kernelspec": {
   "display_name": "Python 3",
   "language": "python",
   "name": "python3"
  },
  "language_info": {
   "codemirror_mode": {
    "name": "ipython",
    "version": 3
   },
   "file_extension": ".py",
   "mimetype": "text/x-python",
   "name": "python",
   "nbconvert_exporter": "python",
   "pygments_lexer": "ipython3",
   "version": "3.8.3"
  }
 },
 "nbformat": 4,
 "nbformat_minor": 4
}
