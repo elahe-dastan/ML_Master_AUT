{
 "cells": [
  {
   "cell_type": "code",
   "execution_count": 96,
   "metadata": {},
   "outputs": [],
   "source": [
    "import pandas as pd\n",
    "\n",
    "train = pd.read_csv(\"p2_data/data_train.csv\", header=None)\n",
    "target = train.shape[1]-1\n",
    "y = train[target].to_numpy()\n",
    "X = train.drop(columns=[target]).to_numpy()\n",
    "\n",
    "test = pd.read_csv(\"p2_data/data_test.csv\", header=None)\n",
    "y_test = test[target]\n",
    "X_test = test.drop(columns=[target])\n"
   ]
  },
  {
   "cell_type": "code",
   "execution_count": 97,
   "metadata": {},
   "outputs": [],
   "source": [
    "from sklearn import tree\n",
    "import random\n",
    "from sklearn.utils import resample\n",
    "import numpy as np\n",
    "\n",
    "class RandomForest:\n",
    "    def __init__(self, n, depth):\n",
    "        self.n = n\n",
    "        self.depth = depth\n",
    "        self.trees = []\n",
    "        self.features = []\n",
    "        self.samplesX = []\n",
    "        self.samplesy = []\n",
    "        self.n_classes = 2\n",
    "        self.build()\n",
    "        \n",
    "    def build(self):\n",
    "        for i in range(self.n):\n",
    "            clf = tree.DecisionTreeClassifier(max_depth=self.depth)\n",
    "            self.trees.append(clf)\n",
    "            \n",
    "    def fit(self, X, y, n):\n",
    "        self.n_classes = len(np.unique(y))\n",
    "        for i in range(self.n):\n",
    "            self.bootstrap(X, y)\n",
    "            self.random_features(n, X.shape[1]-1)\n",
    "            self.trees[i] = self.trees[i].fit(self.samplesX[i][:, self.features[i]], self.samplesy[i])\n",
    "            \n",
    "    def predict(self, X):\n",
    "        predictions = np.zeros(shape=(1, self.n_classes))\n",
    "        for i in range(self.n):\n",
    "            predictions = np.add(predictions,self.trees[i].predict_proba(X[self.features[i]].reshape(1, -1)))\n",
    "            \n",
    "        return np.argmax(predictions)\n",
    "\n",
    "    def bootstrap(self, X, y):\n",
    "        r = random.randint(0, 1000)\n",
    "        bootX = resample(X, replace=True, n_samples=len(X), random_state=r)\n",
    "        booty = resample(y, replace=True, n_samples=len(X), random_state=r)\n",
    "        self.samplesX.append(bootX)\n",
    "        self.samplesy.append(booty)\n",
    "        \n",
    "    def random_features(self, n, n_features):\n",
    "        features = []\n",
    "        for i in range(n):\n",
    "            features.append(random.randint(0, n_features))\n",
    "        self.features.append(features)\n"
   ]
  },
  {
   "cell_type": "code",
   "execution_count": 98,
   "metadata": {},
   "outputs": [],
   "source": [
    "clf = RandomForest(15, 3)\n",
    "clf.fit(X, y, 3)"
   ]
  },
  {
   "cell_type": "code",
   "execution_count": 101,
   "metadata": {},
   "outputs": [
    {
     "name": "stdout",
     "output_type": "stream",
     "text": [
      "8\n",
      "8\n"
     ]
    }
   ],
   "source": [
    "print(y[0])\n",
    "print(clf.predict(X[0, :]))"
   ]
  }
 ],
 "metadata": {
  "kernelspec": {
   "display_name": "Python 3",
   "language": "python",
   "name": "python3"
  },
  "language_info": {
   "codemirror_mode": {
    "name": "ipython",
    "version": 3
   },
   "file_extension": ".py",
   "mimetype": "text/x-python",
   "name": "python",
   "nbconvert_exporter": "python",
   "pygments_lexer": "ipython3",
   "version": "3.8.3"
  }
 },
 "nbformat": 4,
 "nbformat_minor": 4
}
