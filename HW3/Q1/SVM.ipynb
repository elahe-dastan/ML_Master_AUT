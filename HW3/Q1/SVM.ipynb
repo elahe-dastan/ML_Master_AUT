{
 "cells": [
  {
   "cell_type": "code",
   "execution_count": 3,
   "metadata": {},
   "outputs": [
    {
     "name": "stdout",
     "output_type": "stream",
     "text": [
      "(126, 310)\n",
      "(126, 1)\n"
     ]
    }
   ],
   "source": [
    "import pandas as pd\n",
    "\n",
    "s = 'LSVT_voice_rehabilitation.xlsx'\n",
    "\n",
    "# features\n",
    "dff = pd.read_excel(s, 'Data')\n",
    "X = dff.values\n",
    "\n",
    "# labels\n",
    "dfl = pd.read_excel(s, 'Binary response')\n",
    "y = dfl.values"
   ]
  },
  {
   "cell_type": "code",
   "execution_count": 4,
   "metadata": {},
   "outputs": [],
   "source": [
    "from sklearn.preprocessing import StandardScaler\n",
    "\n",
    "X = StandardScaler().fit_transform(X, y)"
   ]
  },
  {
   "cell_type": "code",
   "execution_count": 6,
   "metadata": {},
   "outputs": [],
   "source": [
    "import numpy as np\n",
    "from sklearn.svm import SVC\n",
    "from sklearn.model_selection import KFold, cross_val_score\n",
    "from sklearn.metrics import accuracy_score, f1_score\n",
    "\n",
    "cv = KFold(n_splits=10)"
   ]
  },
  {
   "cell_type": "code",
   "execution_count": 8,
   "metadata": {},
   "outputs": [
    {
     "name": "stdout",
     "output_type": "stream",
     "text": [
      "linear kernel:\n",
      "accuracy: 0.810 (0.114)\n",
      "f1: 0.719 (0.197)\n"
     ]
    }
   ],
   "source": [
    "clf = SVC(kernel=\"linear\")\n",
    "\n",
    "acc_scores = cross_val_score(clf, X, y, scoring='accuracy', cv=cv, n_jobs=-1)\n",
    "f1_scores = cross_val_score(clf, X, y, scoring='f1', cv=cv, n_jobs=-1)\n",
    "\n",
    "print(f'linear kernel:')\n",
    "print('accuracy: %.3f (%.3f)' % (np.mean(acc_scores), np.std(acc_scores)))\n",
    "print('f1: %.3f (%.3f)' % (np.mean(f1_scores), np.std(f1_scores)))\n"
   ]
  },
  {
   "cell_type": "code",
   "execution_count": 15,
   "metadata": {},
   "outputs": [
    {
     "name": "stdout",
     "output_type": "stream",
     "text": [
      "polynomial kernel:\n",
      "SVC(coef0=2, degree=2, kernel='poly')\n",
      "accuracy: 0.803 (0.099)\n",
      "f1: 0.705 (0.180)\n"
     ]
    }
   ],
   "source": [
    "from sklearn.model_selection import GridSearchCV\n",
    "\n",
    "svc = SVC(kernel=\"poly\")\n",
    "parameters = {'degree':[2, 3, 4, 5], 'coef0':[0, 1, 2, 3]}\n",
    "\n",
    "clf = GridSearchCV(svc, parameters)\n",
    "clf.fit(X, y.ravel())\n",
    "\n",
    "acc_scores = cross_val_score(clf, X, y, scoring='accuracy', cv=cv, n_jobs=-1)\n",
    "f1_scores = cross_val_score(clf, X, y, scoring='f1', cv=cv, n_jobs=-1)\n",
    "\n",
    "print(f'polynomial kernel:')\n",
    "print(clf.best_estimator_)\n",
    "print('accuracy: %.3f (%.3f)' % (np.mean(acc_scores), np.std(acc_scores)))\n",
    "print('f1: %.3f (%.3f)' % (np.mean(f1_scores), np.std(f1_scores)))\n"
   ]
  },
  {
   "cell_type": "code",
   "execution_count": 20,
   "metadata": {},
   "outputs": [
    {
     "name": "stdout",
     "output_type": "stream",
     "text": [
      "polynomial kernel:\n",
      "SVC(gamma=0.1)\n",
      "accuracy: 0.667 (0.028)\n",
      "f1: 0.000 (0.000)\n"
     ]
    }
   ],
   "source": [
    "svc = SVC(kernel=\"rbf\")\n",
    "parameters = {'gamma':[0.1, 0.25, 0.5, 1, 2]}\n",
    "\n",
    "clf = GridSearchCV(svc, parameters)\n",
    "clf.fit(X, y.ravel())\n",
    "\n",
    "acc_scores = cross_val_score(clf, X, y, scoring='accuracy', cv=cv, n_jobs=-1)\n",
    "f1_scores = cross_val_score(clf, X, y, scoring='f1', cv=cv, n_jobs=-1)\n",
    "\n",
    "print(f'rbf kernel:')\n",
    "print(clf.best_estimator_)\n",
    "print('accuracy: %.3f (%.3f)' % (np.mean(acc_scores), np.std(acc_scores)))\n",
    "print('f1: %.3f (%.3f)' % (np.mean(f1_scores), np.std(f1_scores)))\n"
   ]
  },
  {
   "cell_type": "code",
   "execution_count": 23,
   "metadata": {},
   "outputs": [
    {
     "name": "stdout",
     "output_type": "stream",
     "text": [
      "sigmoid kernel:\n",
      "SVC(coef0=0.5, kernel='sigmoid')\n",
      "accuracy: 0.851 (0.115)\n",
      "f1: 0.676 (0.310)\n"
     ]
    }
   ],
   "source": [
    "svc = SVC(kernel=\"sigmoid\")\n",
    "parameters = {'coef0':[0.1, 0.25, 0.5, 1, 2]}\n",
    "\n",
    "clf = GridSearchCV(svc, parameters)\n",
    "clf.fit(X, y.ravel())\n",
    "\n",
    "acc_scores = cross_val_score(clf, X, y, scoring='accuracy', cv=cv, n_jobs=-1)\n",
    "f1_scores = cross_val_score(clf, X, y, scoring='f1', cv=cv, n_jobs=-1)\n",
    "\n",
    "print(f'sigmoid kernel:')\n",
    "print(clf.best_estimator_)\n",
    "print('accuracy: %.3f (%.3f)' % (np.mean(acc_scores), np.std(acc_scores)))\n",
    "print('f1: %.3f (%.3f)' % (np.mean(f1_scores), np.std(f1_scores)))"
   ]
  }
 ],
 "metadata": {
  "kernelspec": {
   "display_name": "Python 3",
   "language": "python",
   "name": "python3"
  },
  "language_info": {
   "codemirror_mode": {
    "name": "ipython",
    "version": 3
   },
   "file_extension": ".py",
   "mimetype": "text/x-python",
   "name": "python",
   "nbconvert_exporter": "python",
   "pygments_lexer": "ipython3",
   "version": "3.8.3"
  }
 },
 "nbformat": 4,
 "nbformat_minor": 4
}
