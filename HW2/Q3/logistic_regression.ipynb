{
 "cells": [
  {
   "cell_type": "code",
   "execution_count": 45,
   "metadata": {
    "pycharm": {
     "name": "#%%\n"
    }
   },
   "outputs": [],
   "source": [
    "import pandas as pd\n",
    "import numpy as np\n",
    "from sklearn.linear_model import LogisticRegression\n",
    "\n",
    "class OneVsAll:\n",
    "    def __init__(self):\n",
    "        self.binary_clf = dict()\n",
    "\n",
    "    def fit(self, x, y):\n",
    "        for class_value in pd.unique(y):\n",
    "            y_new = np.where(y!=class_value, -1, y)\n",
    "            y_new = np.where(y_new==class_value, 1, y_new)\n",
    "\n",
    "            clf = LogisticRegression(random_state=0).fit(x, y_new)\n",
    "            self.binary_clf[class_value] = clf\n",
    "\n",
    "    def predict_prob(self, x):\n",
    "        probs = dict()\n",
    "        for class_value, clf in self.binary_clf.items():\n",
    "            probs[class_value] = clf.predict_proba(x)[:, 1]\n",
    "\n",
    "        return probs\n",
    "\n",
    "    def predict(self, x):\n",
    "        ans = np.empty(shape=x.shape[0])\n",
    "        for i in range(x.shape[0]):\n",
    "            d = self.predict_prob(x[i, :].reshape(1, -1))\n",
    "            ans[i] = max(d, key=d.get)\n",
    "\n",
    "        return ans\n"
   ]
  },
  {
   "cell_type": "code",
   "execution_count": 17,
   "metadata": {
    "collapsed": true
   },
   "outputs": [],
   "source": [
    "from sklearn import datasets\n",
    "from sklearn.model_selection import train_test_split\n",
    "\n",
    "mnist = datasets.load_digits()\n",
    "\n",
    "X, y = mnist[\"data\"], mnist[\"target\"]\n",
    "X, X_test, y, y_test = train_test_split(X, y, stratify=y, test_size=0.2)"
   ]
  },
  {
   "cell_type": "code",
   "execution_count": 46,
   "metadata": {
    "pycharm": {
     "name": "#%%\n"
    }
   },
   "outputs": [
    {
     "name": "stderr",
     "output_type": "stream",
     "text": [
      "/home/raha/anaconda3/envs/py34/lib/python3.6/site-packages/sklearn/linear_model/_logistic.py:764: ConvergenceWarning: lbfgs failed to converge (status=1):\n",
      "STOP: TOTAL NO. of ITERATIONS REACHED LIMIT.\n",
      "\n",
      "Increase the number of iterations (max_iter) or scale the data as shown in:\n",
      "    https://scikit-learn.org/stable/modules/preprocessing.html\n",
      "Please also refer to the documentation for alternative solver options:\n",
      "    https://scikit-learn.org/stable/modules/linear_model.html#logistic-regression\n",
      "  extra_warning_msg=_LOGISTIC_SOLVER_CONVERGENCE_MSG)\n",
      "/home/raha/anaconda3/envs/py34/lib/python3.6/site-packages/sklearn/linear_model/_logistic.py:764: ConvergenceWarning: lbfgs failed to converge (status=1):\n",
      "STOP: TOTAL NO. of ITERATIONS REACHED LIMIT.\n",
      "\n",
      "Increase the number of iterations (max_iter) or scale the data as shown in:\n",
      "    https://scikit-learn.org/stable/modules/preprocessing.html\n",
      "Please also refer to the documentation for alternative solver options:\n",
      "    https://scikit-learn.org/stable/modules/linear_model.html#logistic-regression\n",
      "  extra_warning_msg=_LOGISTIC_SOLVER_CONVERGENCE_MSG)\n",
      "/home/raha/anaconda3/envs/py34/lib/python3.6/site-packages/sklearn/linear_model/_logistic.py:764: ConvergenceWarning: lbfgs failed to converge (status=1):\n",
      "STOP: TOTAL NO. of ITERATIONS REACHED LIMIT.\n",
      "\n",
      "Increase the number of iterations (max_iter) or scale the data as shown in:\n",
      "    https://scikit-learn.org/stable/modules/preprocessing.html\n",
      "Please also refer to the documentation for alternative solver options:\n",
      "    https://scikit-learn.org/stable/modules/linear_model.html#logistic-regression\n",
      "  extra_warning_msg=_LOGISTIC_SOLVER_CONVERGENCE_MSG)\n",
      "/home/raha/anaconda3/envs/py34/lib/python3.6/site-packages/sklearn/linear_model/_logistic.py:764: ConvergenceWarning: lbfgs failed to converge (status=1):\n",
      "STOP: TOTAL NO. of ITERATIONS REACHED LIMIT.\n",
      "\n",
      "Increase the number of iterations (max_iter) or scale the data as shown in:\n",
      "    https://scikit-learn.org/stable/modules/preprocessing.html\n",
      "Please also refer to the documentation for alternative solver options:\n",
      "    https://scikit-learn.org/stable/modules/linear_model.html#logistic-regression\n",
      "  extra_warning_msg=_LOGISTIC_SOLVER_CONVERGENCE_MSG)\n",
      "/home/raha/anaconda3/envs/py34/lib/python3.6/site-packages/sklearn/linear_model/_logistic.py:764: ConvergenceWarning: lbfgs failed to converge (status=1):\n",
      "STOP: TOTAL NO. of ITERATIONS REACHED LIMIT.\n",
      "\n",
      "Increase the number of iterations (max_iter) or scale the data as shown in:\n",
      "    https://scikit-learn.org/stable/modules/preprocessing.html\n",
      "Please also refer to the documentation for alternative solver options:\n",
      "    https://scikit-learn.org/stable/modules/linear_model.html#logistic-regression\n",
      "  extra_warning_msg=_LOGISTIC_SOLVER_CONVERGENCE_MSG)\n",
      "/home/raha/anaconda3/envs/py34/lib/python3.6/site-packages/sklearn/linear_model/_logistic.py:764: ConvergenceWarning: lbfgs failed to converge (status=1):\n",
      "STOP: TOTAL NO. of ITERATIONS REACHED LIMIT.\n",
      "\n",
      "Increase the number of iterations (max_iter) or scale the data as shown in:\n",
      "    https://scikit-learn.org/stable/modules/preprocessing.html\n",
      "Please also refer to the documentation for alternative solver options:\n",
      "    https://scikit-learn.org/stable/modules/linear_model.html#logistic-regression\n",
      "  extra_warning_msg=_LOGISTIC_SOLVER_CONVERGENCE_MSG)\n",
      "/home/raha/anaconda3/envs/py34/lib/python3.6/site-packages/sklearn/linear_model/_logistic.py:764: ConvergenceWarning: lbfgs failed to converge (status=1):\n",
      "STOP: TOTAL NO. of ITERATIONS REACHED LIMIT.\n",
      "\n",
      "Increase the number of iterations (max_iter) or scale the data as shown in:\n",
      "    https://scikit-learn.org/stable/modules/preprocessing.html\n",
      "Please also refer to the documentation for alternative solver options:\n",
      "    https://scikit-learn.org/stable/modules/linear_model.html#logistic-regression\n",
      "  extra_warning_msg=_LOGISTIC_SOLVER_CONVERGENCE_MSG)\n",
      "/home/raha/anaconda3/envs/py34/lib/python3.6/site-packages/sklearn/linear_model/_logistic.py:764: ConvergenceWarning: lbfgs failed to converge (status=1):\n",
      "STOP: TOTAL NO. of ITERATIONS REACHED LIMIT.\n",
      "\n",
      "Increase the number of iterations (max_iter) or scale the data as shown in:\n",
      "    https://scikit-learn.org/stable/modules/preprocessing.html\n",
      "Please also refer to the documentation for alternative solver options:\n",
      "    https://scikit-learn.org/stable/modules/linear_model.html#logistic-regression\n",
      "  extra_warning_msg=_LOGISTIC_SOLVER_CONVERGENCE_MSG)\n",
      "/home/raha/anaconda3/envs/py34/lib/python3.6/site-packages/sklearn/linear_model/_logistic.py:764: ConvergenceWarning: lbfgs failed to converge (status=1):\n",
      "STOP: TOTAL NO. of ITERATIONS REACHED LIMIT.\n",
      "\n",
      "Increase the number of iterations (max_iter) or scale the data as shown in:\n",
      "    https://scikit-learn.org/stable/modules/preprocessing.html\n",
      "Please also refer to the documentation for alternative solver options:\n",
      "    https://scikit-learn.org/stable/modules/linear_model.html#logistic-regression\n",
      "  extra_warning_msg=_LOGISTIC_SOLVER_CONVERGENCE_MSG)\n",
      "/home/raha/anaconda3/envs/py34/lib/python3.6/site-packages/sklearn/linear_model/_logistic.py:764: ConvergenceWarning: lbfgs failed to converge (status=1):\n",
      "STOP: TOTAL NO. of ITERATIONS REACHED LIMIT.\n",
      "\n",
      "Increase the number of iterations (max_iter) or scale the data as shown in:\n",
      "    https://scikit-learn.org/stable/modules/preprocessing.html\n",
      "Please also refer to the documentation for alternative solver options:\n",
      "    https://scikit-learn.org/stable/modules/linear_model.html#logistic-regression\n",
      "  extra_warning_msg=_LOGISTIC_SOLVER_CONVERGENCE_MSG)\n"
     ]
    },
    {
     "name": "stdout",
     "output_type": "stream",
     "text": [
      "[0. 7. 1. 1. 3. 0. 4. 9. 4. 8. 9. 4. 4. 2. 2. 3. 9. 6. 0. 3. 5. 1. 4. 9.\n",
      " 4. 8. 8. 1. 7. 1. 0. 1. 1. 0. 8. 7. 9. 6. 7. 2. 6. 2. 9. 8. 4. 7. 8. 6.\n",
      " 9. 1. 6. 7. 8. 5. 9. 2. 5. 3. 2. 5. 9. 1. 6. 1. 3. 6. 2. 4. 4. 5. 4. 2.\n",
      " 1. 8. 1. 3. 7. 5. 7. 7. 0. 9. 3. 2. 6. 5. 3. 5. 8. 5. 6. 0. 9. 8. 3. 8.\n",
      " 0. 5. 6. 3. 6. 2. 8. 1. 1. 1. 3. 2. 5. 8. 5. 9. 6. 0. 4. 3. 3. 3. 8. 3.\n",
      " 4. 4. 1. 4. 1. 8. 2. 9. 6. 5. 8. 1. 5. 1. 5. 7. 1. 5. 6. 6. 7. 2. 5. 7.\n",
      " 8. 3. 0. 4. 6. 0. 0. 5. 7. 4. 3. 0. 3. 0. 3. 1. 8. 0. 5. 3. 9. 3. 8. 1.\n",
      " 9. 1. 5. 7. 7. 0. 7. 8. 2. 9. 2. 7. 7. 9. 5. 7. 4. 1. 3. 0. 1. 4. 4. 7.\n",
      " 4. 8. 5. 2. 8. 2. 3. 6. 5. 7. 5. 2. 6. 4. 3. 9. 8. 0. 9. 9. 5. 4. 2. 8.\n",
      " 2. 9. 6. 7. 5. 1. 0. 8. 1. 5. 8. 9. 9. 1. 8. 5. 7. 4. 9. 5. 3. 5. 3. 1.\n",
      " 3. 7. 6. 7. 2. 2. 8. 8. 3. 1. 2. 6. 3. 1. 6. 2. 8. 6. 7. 0. 9. 8. 4. 5.\n",
      " 3. 2. 2. 6. 8. 9. 6. 3. 9. 4. 6. 7. 7. 2. 6. 0. 0. 0. 2. 1. 1. 3. 2. 7.\n",
      " 5. 8. 1. 8. 4. 0. 2. 6. 8. 7. 0. 7. 4. 2. 9. 9. 5. 9. 4. 7. 7. 2. 0. 9.\n",
      " 6. 0. 6. 7. 7. 4. 0. 3. 9. 0. 6. 6. 8. 6. 8. 2. 4. 6. 5. 0. 3. 5. 0. 0.\n",
      " 1. 2. 6. 8. 4. 0. 2. 4. 8. 0. 4. 7. 0. 1. 7. 1. 5. 1. 4. 1. 3. 0. 2. 1.]\n",
      "[0 7 8 1 3 0 4 9 4 9 9 4 4 2 2 3 9 6 0 9 5 1 4 9 4 8 8 1 7 1 0 1 1 0 8 7 9\n",
      " 6 7 2 6 2 9 8 4 7 8 6 9 1 6 7 8 5 9 2 5 3 2 5 9 5 6 1 3 6 2 4 4 5 4 2 1 8\n",
      " 1 3 4 5 7 7 0 9 3 2 6 5 3 5 8 5 6 0 9 5 3 8 0 5 6 3 6 2 8 1 1 1 3 2 5 8 5\n",
      " 9 6 0 4 3 3 3 8 3 4 4 1 4 1 8 2 9 6 5 8 1 5 1 5 7 8 5 6 6 7 2 5 7 8 3 0 4\n",
      " 6 0 0 5 7 4 3 0 3 0 3 1 9 0 5 3 9 3 8 1 9 1 5 7 7 0 7 8 2 9 2 7 7 9 5 7 4\n",
      " 1 3 0 1 4 4 7 4 4 5 2 3 2 3 6 5 7 5 2 6 4 3 9 7 0 9 7 5 4 2 8 2 9 6 9 5 9\n",
      " 0 8 1 5 8 9 9 1 8 5 7 4 9 5 3 5 3 1 3 7 6 7 8 2 8 8 3 1 2 6 3 1 6 2 8 6 7\n",
      " 0 9 8 4 5 3 2 2 6 6 9 6 3 9 4 6 7 7 2 6 0 0 0 2 1 1 3 2 7 3 8 1 8 4 0 2 6\n",
      " 8 7 0 7 4 2 9 9 5 9 4 7 7 2 0 9 6 0 6 7 3 4 0 3 9 0 6 6 8 6 8 2 4 6 5 0 3\n",
      " 5 0 0 1 2 6 8 4 0 2 4 8 0 4 7 0 1 7 1 5 1 4 1 3 0 2 1]\n"
     ]
    }
   ],
   "source": [
    "clf = OneVsAll()\n",
    "clf.fit(X, y)\n",
    "print(clf.predict(X_test))\n",
    "print(y_test)"
   ]
  },
  {
   "cell_type": "code",
   "execution_count": null,
   "metadata": {},
   "outputs": [],
   "source": [
    "from sklearn.metrics import mean_squared_error\n",
    "\n",
    "y_train_pred = clf.predict(X)\n",
    "train_err = mean_squared_error(y, y_train_pred)\n",
    "print(\"train error= \", train_err)\n",
    "\n",
    "y_test_pred = clf.predict(X_test)\n",
    "test_err = mean_squared_error(y_test, y_test_pred)\n",
    "print(\"test error= \", test_err)"
   ]
  }
 ],
 "metadata": {
  "kernelspec": {
   "display_name": "Python 3",
   "language": "python",
   "name": "python3"
  },
  "language_info": {
   "codemirror_mode": {
    "name": "ipython",
    "version": 3
   },
   "file_extension": ".py",
   "mimetype": "text/x-python",
   "name": "python",
   "nbconvert_exporter": "python",
   "pygments_lexer": "ipython3",
   "version": "3.8.5"
  }
 },
 "nbformat": 4,
 "nbformat_minor": 1
}
