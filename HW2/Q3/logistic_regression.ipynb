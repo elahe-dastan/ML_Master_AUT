{
 "cells": [
  {
   "cell_type": "code",
   "execution_count": 2,
   "metadata": {
    "pycharm": {
     "name": "#%%\n"
    }
   },
   "outputs": [],
   "source": [
    "import pandas as pd\n",
    "import numpy as np\n",
    "from sklearn.linear_model import LogisticRegression\n",
    "\n",
    "class OneVsAll:\n",
    "    def __init__(self):\n",
    "        self.binary_clf = dict()\n",
    "\n",
    "    def fit(self, x, y):\n",
    "        for class_value in pd.unique(y):\n",
    "            y_new = np.where(y!=class_value, -1, y)\n",
    "            y_new = np.where(y_new==class_value, 1, y_new)\n",
    "\n",
    "            clf = LogisticRegression(random_state=0).fit(x, y_new)\n",
    "            self.binary_clf[class_value] = clf\n",
    "\n",
    "    def predict_prob(self, x):\n",
    "        probs = dict()\n",
    "        for class_value, clf in self.binary_clf.items():\n",
    "            probs[class_value] = clf.predict_proba(x)[:, 1]\n",
    "\n",
    "        return probs\n",
    "\n",
    "    def predict(self, x):\n",
    "        ans = np.empty(shape=x.shape[0])\n",
    "        for i in range(x.shape[0]):\n",
    "            d = self.predict_prob(x[i, :].reshape(1, -1))\n",
    "            ans[i] = max(d, key=d.get)\n",
    "\n",
    "        return ans\n"
   ]
  },
  {
   "cell_type": "code",
   "execution_count": 3,
   "metadata": {},
   "outputs": [],
   "source": [
    "from sklearn import datasets\n",
    "from sklearn.model_selection import train_test_split\n",
    "\n",
    "mnist = datasets.load_digits()\n",
    "\n",
    "X, y = mnist[\"data\"], mnist[\"target\"]\n",
    "X, X_test, y, y_test = train_test_split(X, y, stratify=y, test_size=0.2)"
   ]
  },
  {
   "cell_type": "code",
   "execution_count": 4,
   "metadata": {
    "pycharm": {
     "name": "#%%\n"
    }
   },
   "outputs": [
    {
     "name": "stderr",
     "output_type": "stream",
     "text": [
      "/home/raha/anaconda3/lib/python3.8/site-packages/sklearn/linear_model/_logistic.py:763: ConvergenceWarning: lbfgs failed to converge (status=1):\n",
      "STOP: TOTAL NO. of ITERATIONS REACHED LIMIT.\n",
      "\n",
      "Increase the number of iterations (max_iter) or scale the data as shown in:\n",
      "    https://scikit-learn.org/stable/modules/preprocessing.html\n",
      "Please also refer to the documentation for alternative solver options:\n",
      "    https://scikit-learn.org/stable/modules/linear_model.html#logistic-regression\n",
      "  n_iter_i = _check_optimize_result(\n",
      "/home/raha/anaconda3/lib/python3.8/site-packages/sklearn/linear_model/_logistic.py:763: ConvergenceWarning: lbfgs failed to converge (status=1):\n",
      "STOP: TOTAL NO. of ITERATIONS REACHED LIMIT.\n",
      "\n",
      "Increase the number of iterations (max_iter) or scale the data as shown in:\n",
      "    https://scikit-learn.org/stable/modules/preprocessing.html\n",
      "Please also refer to the documentation for alternative solver options:\n",
      "    https://scikit-learn.org/stable/modules/linear_model.html#logistic-regression\n",
      "  n_iter_i = _check_optimize_result(\n",
      "/home/raha/anaconda3/lib/python3.8/site-packages/sklearn/linear_model/_logistic.py:763: ConvergenceWarning: lbfgs failed to converge (status=1):\n",
      "STOP: TOTAL NO. of ITERATIONS REACHED LIMIT.\n",
      "\n",
      "Increase the number of iterations (max_iter) or scale the data as shown in:\n",
      "    https://scikit-learn.org/stable/modules/preprocessing.html\n",
      "Please also refer to the documentation for alternative solver options:\n",
      "    https://scikit-learn.org/stable/modules/linear_model.html#logistic-regression\n",
      "  n_iter_i = _check_optimize_result(\n",
      "/home/raha/anaconda3/lib/python3.8/site-packages/sklearn/linear_model/_logistic.py:763: ConvergenceWarning: lbfgs failed to converge (status=1):\n",
      "STOP: TOTAL NO. of ITERATIONS REACHED LIMIT.\n",
      "\n",
      "Increase the number of iterations (max_iter) or scale the data as shown in:\n",
      "    https://scikit-learn.org/stable/modules/preprocessing.html\n",
      "Please also refer to the documentation for alternative solver options:\n",
      "    https://scikit-learn.org/stable/modules/linear_model.html#logistic-regression\n",
      "  n_iter_i = _check_optimize_result(\n",
      "/home/raha/anaconda3/lib/python3.8/site-packages/sklearn/linear_model/_logistic.py:763: ConvergenceWarning: lbfgs failed to converge (status=1):\n",
      "STOP: TOTAL NO. of ITERATIONS REACHED LIMIT.\n",
      "\n",
      "Increase the number of iterations (max_iter) or scale the data as shown in:\n",
      "    https://scikit-learn.org/stable/modules/preprocessing.html\n",
      "Please also refer to the documentation for alternative solver options:\n",
      "    https://scikit-learn.org/stable/modules/linear_model.html#logistic-regression\n",
      "  n_iter_i = _check_optimize_result(\n",
      "/home/raha/anaconda3/lib/python3.8/site-packages/sklearn/linear_model/_logistic.py:763: ConvergenceWarning: lbfgs failed to converge (status=1):\n",
      "STOP: TOTAL NO. of ITERATIONS REACHED LIMIT.\n",
      "\n",
      "Increase the number of iterations (max_iter) or scale the data as shown in:\n",
      "    https://scikit-learn.org/stable/modules/preprocessing.html\n",
      "Please also refer to the documentation for alternative solver options:\n",
      "    https://scikit-learn.org/stable/modules/linear_model.html#logistic-regression\n",
      "  n_iter_i = _check_optimize_result(\n",
      "/home/raha/anaconda3/lib/python3.8/site-packages/sklearn/linear_model/_logistic.py:763: ConvergenceWarning: lbfgs failed to converge (status=1):\n",
      "STOP: TOTAL NO. of ITERATIONS REACHED LIMIT.\n",
      "\n",
      "Increase the number of iterations (max_iter) or scale the data as shown in:\n",
      "    https://scikit-learn.org/stable/modules/preprocessing.html\n",
      "Please also refer to the documentation for alternative solver options:\n",
      "    https://scikit-learn.org/stable/modules/linear_model.html#logistic-regression\n",
      "  n_iter_i = _check_optimize_result(\n",
      "/home/raha/anaconda3/lib/python3.8/site-packages/sklearn/linear_model/_logistic.py:763: ConvergenceWarning: lbfgs failed to converge (status=1):\n",
      "STOP: TOTAL NO. of ITERATIONS REACHED LIMIT.\n",
      "\n",
      "Increase the number of iterations (max_iter) or scale the data as shown in:\n",
      "    https://scikit-learn.org/stable/modules/preprocessing.html\n",
      "Please also refer to the documentation for alternative solver options:\n",
      "    https://scikit-learn.org/stable/modules/linear_model.html#logistic-regression\n",
      "  n_iter_i = _check_optimize_result(\n",
      "/home/raha/anaconda3/lib/python3.8/site-packages/sklearn/linear_model/_logistic.py:763: ConvergenceWarning: lbfgs failed to converge (status=1):\n",
      "STOP: TOTAL NO. of ITERATIONS REACHED LIMIT.\n",
      "\n",
      "Increase the number of iterations (max_iter) or scale the data as shown in:\n",
      "    https://scikit-learn.org/stable/modules/preprocessing.html\n",
      "Please also refer to the documentation for alternative solver options:\n",
      "    https://scikit-learn.org/stable/modules/linear_model.html#logistic-regression\n",
      "  n_iter_i = _check_optimize_result(\n",
      "/home/raha/anaconda3/lib/python3.8/site-packages/sklearn/linear_model/_logistic.py:763: ConvergenceWarning: lbfgs failed to converge (status=1):\n",
      "STOP: TOTAL NO. of ITERATIONS REACHED LIMIT.\n",
      "\n",
      "Increase the number of iterations (max_iter) or scale the data as shown in:\n",
      "    https://scikit-learn.org/stable/modules/preprocessing.html\n",
      "Please also refer to the documentation for alternative solver options:\n",
      "    https://scikit-learn.org/stable/modules/linear_model.html#logistic-regression\n",
      "  n_iter_i = _check_optimize_result(\n"
     ]
    },
    {
     "name": "stdout",
     "output_type": "stream",
     "text": [
      "[7. 3. 7. 7. 4. 1. 5. 3. 0. 2. 6. 7. 5. 3. 9. 7. 9. 4. 6. 3. 5. 3. 2. 6.\n",
      " 4. 0. 0. 5. 5. 2. 1. 2. 0. 6. 5. 6. 7. 5. 3. 1. 1. 4. 7. 8. 4. 3. 8. 1.\n",
      " 2. 6. 5. 2. 6. 4. 7. 7. 1. 4. 9. 0. 0. 3. 1. 5. 9. 9. 3. 7. 0. 9. 0. 2.\n",
      " 6. 9. 9. 6. 2. 3. 0. 3. 6. 3. 5. 4. 8. 7. 7. 9. 9. 6. 4. 9. 8. 3. 1. 2.\n",
      " 6. 9. 3. 6. 0. 9. 9. 0. 9. 9. 0. 4. 8. 3. 7. 8. 2. 0. 2. 7. 6. 2. 2. 6.\n",
      " 8. 4. 6. 7. 5. 6. 0. 0. 1. 9. 5. 1. 1. 0. 7. 3. 2. 5. 0. 2. 8. 6. 3. 3.\n",
      " 9. 4. 3. 0. 8. 2. 1. 0. 0. 1. 1. 2. 4. 9. 3. 2. 2. 7. 5. 7. 4. 8. 8. 3.\n",
      " 8. 3. 9. 4. 5. 8. 2. 9. 7. 4. 8. 3. 4. 1. 8. 8. 8. 1. 3. 1. 4. 1. 8. 1.\n",
      " 2. 7. 0. 3. 4. 3. 6. 9. 0. 4. 7. 5. 6. 0. 3. 7. 8. 4. 9. 0. 8. 8. 0. 5.\n",
      " 1. 3. 2. 1. 3. 8. 2. 1. 7. 4. 3. 4. 3. 6. 4. 9. 6. 8. 6. 7. 8. 8. 4. 8.\n",
      " 1. 8. 5. 3. 2. 5. 2. 9. 6. 1. 1. 2. 9. 6. 2. 0. 3. 2. 8. 4. 7. 0. 6. 6.\n",
      " 4. 5. 5. 7. 7. 5. 4. 1. 5. 1. 8. 2. 4. 1. 2. 1. 5. 3. 4. 3. 6. 7. 8. 1.\n",
      " 6. 5. 7. 0. 5. 0. 1. 8. 4. 6. 6. 6. 7. 9. 8. 0. 8. 2. 3. 8. 3. 5. 1. 5.\n",
      " 5. 5. 3. 0. 3. 9. 4. 7. 6. 7. 9. 5. 9. 2. 4. 0. 6. 3. 5. 8. 5. 5. 7. 0.\n",
      " 6. 1. 2. 5. 2. 9. 9. 4. 3. 9. 0. 9. 2. 2. 9. 6. 7. 0. 1. 5. 0. 8. 9. 4.]\n",
      "[7 3 7 7 4 1 5 3 0 2 6 7 5 3 9 7 9 4 6 3 5 3 2 6 4 0 0 5 5 2 1 2 0 6 5 6 7\n",
      " 5 3 1 1 4 7 8 4 3 8 1 2 6 5 2 6 4 7 7 1 4 7 0 0 3 1 5 9 9 3 7 0 9 0 2 6 9\n",
      " 9 6 2 8 0 3 6 9 5 4 8 7 7 9 9 6 4 9 8 3 1 8 6 9 3 6 0 9 9 0 9 9 0 4 8 3 7\n",
      " 8 2 0 2 7 6 2 2 6 8 4 6 7 5 6 0 0 1 9 5 1 1 0 7 3 2 5 0 2 8 6 3 3 9 4 3 0\n",
      " 8 2 1 0 0 1 1 2 4 9 3 2 2 7 5 7 4 9 8 3 8 1 9 4 5 8 2 9 7 4 8 3 4 4 8 8 8\n",
      " 1 3 1 4 1 1 1 2 7 0 3 4 3 6 9 0 4 7 5 6 0 3 7 8 4 9 0 1 8 0 5 1 3 2 1 5 8\n",
      " 2 1 7 4 3 4 3 6 4 9 6 8 6 7 8 8 4 8 1 8 5 3 2 5 2 9 6 1 1 2 3 6 2 0 3 2 8\n",
      " 4 7 0 6 6 4 5 5 7 7 5 4 1 5 1 8 2 4 8 2 1 5 3 4 3 6 7 8 1 6 5 7 0 5 0 1 8\n",
      " 4 6 6 6 7 9 8 0 8 2 3 8 1 5 1 5 5 5 3 0 3 9 4 7 6 7 9 5 7 2 4 0 6 3 5 9 5\n",
      " 5 7 0 6 1 2 5 2 9 9 4 3 9 0 9 2 2 9 6 7 0 1 5 0 8 9 4]\n"
     ]
    }
   ],
   "source": [
    "clf = OneVsAll()\n",
    "clf.fit(X, y)\n",
    "print(clf.predict(X_test))\n",
    "print(y_test)"
   ]
  },
  {
   "cell_type": "code",
   "execution_count": 5,
   "metadata": {},
   "outputs": [
    {
     "name": "stdout",
     "output_type": "stream",
     "text": [
      "train error=  0.18232428670842032\n",
      "test error=  0.8638888888888889\n"
     ]
    }
   ],
   "source": [
    "from sklearn.metrics import mean_squared_error\n",
    "\n",
    "y_train_pred = clf.predict(X)\n",
    "train_err = mean_squared_error(y, y_train_pred)\n",
    "print(\"train error= \", train_err)\n",
    "\n",
    "y_test_pred = clf.predict(X_test)\n",
    "test_err = mean_squared_error(y_test, y_test_pred)\n",
    "print(\"test error= \", test_err)"
   ]
  },
  {
   "cell_type": "code",
   "execution_count": 6,
   "metadata": {},
   "outputs": [
    {
     "name": "stdout",
     "output_type": "stream",
     "text": [
      "train confusion matrix\n",
      "test confusion matrix\n"
     ]
    },
    {
     "data": {
      "text/plain": [
       "array([[36,  0,  0,  0,  0,  0,  0,  0,  0,  0],\n",
       "       [ 0, 32,  0,  2,  0,  0,  0,  0,  2,  0],\n",
       "       [ 0,  0, 35,  0,  0,  0,  0,  0,  0,  0],\n",
       "       [ 0,  0,  0, 36,  0,  0,  0,  0,  0,  1],\n",
       "       [ 0,  1,  0,  0, 35,  0,  0,  0,  0,  0],\n",
       "       [ 0,  0,  0,  1,  0, 36,  0,  0,  0,  0],\n",
       "       [ 0,  0,  0,  0,  0,  0, 36,  0,  0,  0],\n",
       "       [ 0,  0,  0,  0,  0,  0,  0, 34,  0,  2],\n",
       "       [ 0,  1,  1,  1,  0,  0,  0,  0, 32,  0],\n",
       "       [ 0,  0,  0,  1,  0,  0,  0,  0,  2, 33]])"
      ]
     },
     "execution_count": 6,
     "metadata": {},
     "output_type": "execute_result"
    }
   ],
   "source": [
    "from sklearn.metrics import confusion_matrix\n",
    "\n",
    "print(\"train confusion matrix\")\n",
    "confusion_matrix(y, y_train_pred)\n",
    "\n",
    "print(\"test confusion matrix\")\n",
    "confusion_matrix(y_test, y_test_pred)"
   ]
  }
 ],
 "metadata": {
  "kernelspec": {
   "display_name": "Python 3",
   "language": "python",
   "name": "python3"
  },
  "language_info": {
   "codemirror_mode": {
    "name": "ipython",
    "version": 3
   },
   "file_extension": ".py",
   "mimetype": "text/x-python",
   "name": "python",
   "nbconvert_exporter": "python",
   "pygments_lexer": "ipython3",
   "version": "3.8.5"
  }
 },
 "nbformat": 4,
 "nbformat_minor": 1
}
