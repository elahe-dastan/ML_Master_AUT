{
 "cells": [
  {
   "cell_type": "code",
   "execution_count": 1,
   "metadata": {},
   "outputs": [],
   "source": [
    "# Make Predictions with Naive Bayes On The Wine Dataset\n",
    "from math import sqrt\n",
    "from math import exp\n",
    "from math import pi\n",
    "import pandas as pd\n",
    "from sklearn.model_selection import train_test_split\n",
    "\n",
    "class GNB:\n",
    "    def __init__(self):\n",
    "        self.summaries = dict()\n",
    "        self.prior_probabilities = dict()\n",
    "\n",
    "    # Split the dataset by class values, returns a dictionary\n",
    "    def separate_by_class(self, x, y):\n",
    "        separated = dict()\n",
    "        for class_value in pd.unique(y):\n",
    "            separated[class_value] = x[y == class_value]\n",
    "            \n",
    "        return separated\n",
    " \n",
    "    # Split dataset by class then calculate statistics for each row\n",
    "    def train(self, x, y):\n",
    "        separated = self.separate_by_class(x, y)\n",
    "        for class_value, rows in separated.items():\n",
    "            self.prior_probabilities[class_value] = len(rows)/len(x)\n",
    "            print(self.prior_probabilities[class_value])\n",
    "            self.summaries[class_value] = [rows.mean(), rows.std()]\n",
    " \n",
    "    # Calculate the Gaussian probability distribution function for x\n",
    "    def calculate_probability(self, x, mean, stdev):\n",
    "        exponent = exp(-((x-mean)**2 / (2 * stdev**2 )))\n",
    "        \n",
    "        return (1 / (sqrt(2 * pi) * stdev)) * exponent\n",
    " \n",
    "    # Calculate the probabilities of predicting each class for a given row\n",
    "    def calculate_class_probabilities(self, row):\n",
    "        probabilities = self.prior_probabilities\n",
    "        for class_value, class_summaries in self.summaries.items():\n",
    "            for i in range(1, len(class_summaries[0]) + 1):\n",
    "                mean, stdev = class_summaries[0][i], class_summaries[1][i]\n",
    "                probabilities[class_value] *= self.calculate_probability(row[i], mean, stdev)\n",
    "                \n",
    "        return probabilities\n",
    " \n",
    "    # Predict the class for a given row\n",
    "    def predict(self, row):\n",
    "        probabilities = self.calculate_class_probabilities(row)\n",
    "        best_label, best_prob = None, -1\n",
    "        for class_value, probability in probabilities.items():\n",
    "            if best_label is None or probability > best_prob:\n",
    "                best_prob = probability\n",
    "                best_label = class_value\n",
    "        return best_label\n",
    " "
   ]
  },
  {
   "cell_type": "code",
   "execution_count": 3,
   "metadata": {},
   "outputs": [
    {
     "name": "stdout",
     "output_type": "stream",
     "text": [
      "0.33098591549295775\n",
      "0.4014084507042254\n",
      "0.2676056338028169\n",
      "1      14.22\n",
      "2       1.70\n",
      "3       2.30\n",
      "4      16.30\n",
      "5     118.00\n",
      "6       3.20\n",
      "7       3.00\n",
      "8       0.26\n",
      "9       2.03\n",
      "10      6.38\n",
      "11      0.94\n",
      "12      3.31\n",
      "13    970.00\n",
      "Name: 56, dtype: float64\n",
      "1\n",
      "1\n"
     ]
    }
   ],
   "source": [
    "# Make a prediction with Naive Bayes on Iris Dataset\n",
    "filename = 'data/wine.data'\n",
    "dataset = pd.read_csv(filename, header=None)\n",
    "y = dataset[0]\n",
    "X = dataset.drop(columns=[0])\n",
    "X, X_test, y, y_test = train_test_split(X, y, stratify=y, test_size=0.2)\n",
    "\n",
    "# fit model\n",
    "gnb_clf = GNB()\n",
    "gnb_clf.train(X, y)\n",
    "\n",
    "# predict the label\n",
    "print(X_test.iloc[0])\n",
    "label = gnb_clf.predict(X_test.iloc[0])\n",
    "print(label)\n",
    "print(y_test.iloc[0])\n",
    "# print('Data=%s, Predicted: %s' % (row, label))"
   ]
  }
 ],
 "metadata": {
  "kernelspec": {
   "display_name": "Python 3",
   "language": "python",
   "name": "python3"
  },
  "language_info": {
   "codemirror_mode": {
    "name": "ipython",
    "version": 3
   },
   "file_extension": ".py",
   "mimetype": "text/x-python",
   "name": "python",
   "nbconvert_exporter": "python",
   "pygments_lexer": "ipython3",
   "version": "3.8.5"
  }
 },
 "nbformat": 4,
 "nbformat_minor": 1
}