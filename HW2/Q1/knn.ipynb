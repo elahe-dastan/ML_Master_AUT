{
 "cells": [
  {
   "cell_type": "code",
   "execution_count": 99,
   "metadata": {},
   "outputs": [],
   "source": [
    "from math import sqrt\n",
    "import numpy as np\n",
    "\n",
    "class knn:\n",
    "    # Calculate the Euclidean distance between two vectors\n",
    "    def euclidean_distance(self, row1, row2):\n",
    "        distance = 0.0\n",
    "        subtract = np.subtract(row1, row2)\n",
    "        for s in subtract:\n",
    "            distance += s*s\n",
    "        \n",
    "        return sqrt(distance)\n",
    "\n",
    "    # Locate the most similar neighbors\n",
    "    def get_neighbors(self, train, test_row, num_neighbors):\n",
    "        distances = list()\n",
    "        for train_row in train:\n",
    "            dist = self.euclidean_distance(test_row, train_row)\n",
    "            distances.append((train_row, dist))\n",
    "        distances.sort(key=lambda tup: tup[1])\n",
    "        neighbors = list()\n",
    "        for i in range(num_neighbors):\n",
    "            neighbors.append(distances[i][0])\n",
    "        \n",
    "        return neighbors\n",
    "\n",
    "    # Make a prediction with neighbors\n",
    "    def predict_classification(self, train, test_row, num_neighbors):\n",
    "        neighbors = self.get_neighbors(train, test_row, num_neighbors)\n",
    "        output_values = [row[-1] for row in neighbors]\n",
    "        prediction = max(set(output_values), key=output_values.count)\n",
    "    \n",
    "        return prediction\n",
    "        "
   ]
  },
  {
   "cell_type": "markdown",
   "source": [
    "Split dataset into a train, test and validation"
   ],
   "metadata": {
    "collapsed": false
   }
  },
  {
   "cell_type": "code",
   "execution_count": 100,
   "metadata": {
    "pycharm": {
     "name": "#%%\n"
    }
   },
   "outputs": [
    {
     "name": "stdout",
     "output_type": "stream",
     "text": [
      "Predicted: 6.0\n",
      "6\n"
     ]
    }
   ],
   "source": [
    "from sklearn import datasets\n",
    "from sklearn.model_selection import train_test_split\n",
    "\n",
    "mnist = datasets.load_digits()\n",
    "\n",
    "X, y = mnist[\"data\"], mnist[\"target\"]\n",
    "X, X_test, y, y_test = train_test_split(X, y, stratify=y, test_size=0.2)\n",
    "X_train, X_val, y_train, y_val = train_test_split(X, y, stratify=y, test_size=0.2)"
   ]
  },
  {
   "cell_type": "markdown",
   "source": [
    "After trying different \"k\"s and distance functions I found that k= and d= works best."
   ],
   "metadata": {
    "collapsed": false
   }
  },
  {
   "cell_type": "code",
   "execution_count": null,
   "outputs": [],
   "source": [
    "# define model parameter\n",
    "num_neighbors = 5\n",
    "# predict the label\n",
    "knn = knn()\n",
    "y_train = y_train.reshape(-1, 1)\n",
    "\n",
    "label = knn.predict_classification(np.append(X_train, y_train, axis=1), np.append(X_val[0], y_val[0]), num_neighbors)\n",
    "print('Predicted: %s' % (label))\n",
    "print(y_val[0])\n"
   ],
   "metadata": {
    "collapsed": false,
    "pycharm": {
     "name": "#%%\n"
    }
   }
  },
  {
   "cell_type": "markdown",
   "source": [
    "Report Train, validation and test error"
   ],
   "metadata": {
    "collapsed": false
   }
  },
  {
   "cell_type": "code",
   "execution_count": null,
   "outputs": [],
   "source": [
    "from sklearn.metrics import mean_squared_error\n",
    "\n",
    "mean_squared_error(y_true, y_pred)\n",
    "\n",
    "\n",
    "\n",
    "\n",
    "\n"
   ],
   "metadata": {
    "collapsed": false,
    "pycharm": {
     "name": "#%%\n"
    }
   }
  }
 ],
 "metadata": {
  "kernelspec": {
   "display_name": "Python 3",
   "language": "python",
   "name": "python3"
  },
  "language_info": {
   "codemirror_mode": {
    "name": "ipython",
    "version": 3
   },
   "file_extension": ".py",
   "mimetype": "text/x-python",
   "name": "python",
   "nbconvert_exporter": "python",
   "pygments_lexer": "ipython3",
   "version": "3.8.5"
  }
 },
 "nbformat": 4,
 "nbformat_minor": 1
}