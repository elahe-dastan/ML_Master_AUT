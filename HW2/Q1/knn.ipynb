{
 "cells": [
  {
   "cell_type": "code",
   "execution_count": 1,
   "metadata": {},
   "outputs": [],
   "source": [
    "from math import sqrt\n",
    "import numpy as np\n",
    "\n",
    "class knn:\n",
    "    def __init__(self):\n",
    "        self.X = None\n",
    "        self.Y = None\n",
    "\n",
    "    # Calculate the Euclidean distance between two vectors\n",
    "    def euclidean_distance(self, row1, row2):\n",
    "        distance = 0.0\n",
    "        subtract = np.subtract(row1, row2)\n",
    "        for s in subtract:\n",
    "            distance += s*s\n",
    "        \n",
    "        return sqrt(distance)\n",
    "\n",
    "    # Locate the most similar neighbors\n",
    "    def get_neighbors(self, test_row, num_neighbors):\n",
    "        distances = list()\n",
    "        for train_row, train_label in zip(self.X, self.Y):\n",
    "            dist = self.euclidean_distance(test_row, train_row)\n",
    "            distances.append((train_row, train_label, dist))\n",
    "        distances.sort(key=lambda tup: tup[2])\n",
    "\n",
    "        neighbors = np.array([])\n",
    "        for i in range(num_neighbors):\n",
    "            neighbors = np.append(neighbors, distances[i][1])\n",
    "\n",
    "        return neighbors\n",
    "\n",
    "    def fit(self, X, Y):\n",
    "        self.X = X\n",
    "        self.Y = Y\n",
    "\n",
    "    # Make a prediction with neighbors\n",
    "    def predict(self, test, num_neighbors):\n",
    "        predictions = np.array([])\n",
    "        for test_row in test:\n",
    "            neighbors = self.get_neighbors(test_row, num_neighbors)\n",
    "            values, counts = np.unique(neighbors, return_counts=True)\n",
    "            ind = np.argmax(counts)\n",
    "            predictions = np.append(predictions, values[ind])\n",
    "    \n",
    "        return predictions\n",
    "        "
   ]
  },
  {
   "cell_type": "markdown",
   "metadata": {},
   "source": [
    "Split dataset into a train, test and validation"
   ]
  },
  {
   "cell_type": "code",
   "execution_count": 2,
   "metadata": {
    "pycharm": {
     "name": "#%%\n"
    }
   },
   "outputs": [],
   "source": [
    "from sklearn import datasets\n",
    "from sklearn.model_selection import train_test_split\n",
    "\n",
    "mnist = datasets.load_digits()\n",
    "\n",
    "X, y = mnist[\"data\"], mnist[\"target\"]\n",
    "X, X_test, y, y_test = train_test_split(X, y, stratify=y, test_size=0.2)\n",
    "X_train, X_val, y_train, y_val = train_test_split(X, y, stratify=y, test_size=0.2)"
   ]
  },
  {
   "cell_type": "markdown",
   "metadata": {},
   "source": [
    "After trying different \"k\"s and distance functions I found that k= and d= works best.<br/>\n",
    "Report Train, validation and test error"
   ]
  },
  {
   "cell_type": "code",
   "execution_count": 3,
   "metadata": {
    "pycharm": {
     "name": "#%%\n"
    }
   },
   "outputs": [
    {
     "name": "stdout",
     "output_type": "stream",
     "text": [
      "train error=  0.3524804177545692\n",
      "validation error=  0.24305555555555555\n",
      "test error=  0.2111111111111111\n"
     ]
    }
   ],
   "source": [
    "from sklearn.metrics import mean_squared_error\n",
    "\n",
    "clf = knn()\n",
    "y_train = y_train.reshape(-1, 1)\n",
    "clf.fit(X_train, y_train)\n",
    "\n",
    "y_train_pred = clf.predict(X_train, 5)\n",
    "train_err = mean_squared_error(y_train, y_train_pred)\n",
    "print(\"train error= \", train_err)\n",
    "\n",
    "y_val_pred = clf.predict(X_val, 5)\n",
    "validation_err = mean_squared_error(y_val, y_val_pred)\n",
    "print(\"validation error= \", validation_err)\n",
    "\n",
    "y_test_pred = clf.predict(X_test, 5)\n",
    "test_err = mean_squared_error(y_test, y_test_pred)\n",
    "print(\"test error= \", test_err)"
   ]
  },
  {
   "cell_type": "markdown",
   "metadata": {},
   "source": [
    "Report confusion matrix"
   ]
  },
  {
   "cell_type": "code",
   "execution_count": 4,
   "metadata": {
    "pycharm": {
     "name": "#%%\n"
    }
   },
   "outputs": [
    {
     "name": "stdout",
     "output_type": "stream",
     "text": [
      "train confusion matrix\n",
      "validation confusion matrix\n",
      "test confusion matrix\n"
     ]
    },
    {
     "data": {
      "text/plain": [
       "array([[36,  0,  0,  0,  0,  0,  0,  0,  0,  0],\n",
       "       [ 0, 36,  0,  0,  0,  0,  0,  0,  0,  0],\n",
       "       [ 0,  0, 34,  0,  0,  0,  0,  1,  0,  0],\n",
       "       [ 0,  0,  0, 37,  0,  0,  0,  0,  0,  0],\n",
       "       [ 0,  0,  0,  0, 36,  0,  0,  0,  0,  0],\n",
       "       [ 0,  0,  0,  0,  0, 37,  0,  0,  0,  0],\n",
       "       [ 0,  1,  0,  0,  0,  0, 35,  0,  0,  0],\n",
       "       [ 0,  0,  0,  0,  0,  0,  0, 36,  0,  0],\n",
       "       [ 0,  0,  0,  1,  0,  0,  0,  0, 34,  0],\n",
       "       [ 0,  0,  0,  0,  0,  0,  0,  0,  1, 35]])"
      ]
     },
     "execution_count": 4,
     "metadata": {},
     "output_type": "execute_result"
    }
   ],
   "source": [
    "from sklearn.metrics import confusion_matrix\n",
    "\n",
    "print(\"train confusion matrix\")\n",
    "print(confusion_matrix(y_train, y_train_pred))\n",
    "\n",
    "print(\"validation confusion matrix\")\n",
    "print(confusion_matrix(y_val, y_val_pred))\n",
    "\n",
    "print(\"test confusion matrix\")\n",
    "print(confusion_matrix(y_test, y_test_pred))"
   ]
  },
  {
   "cell_type": "markdown",
   "metadata": {},
   "source": [
    "Predict and show images"
   ]
  },
  {
   "cell_type": "code",
   "execution_count": null,
   "metadata": {
    "pycharm": {
     "name": "#%%\n"
    }
   },
   "outputs": [],
   "source": [
    "import matplotlib.pyplot as plt\n",
    "\n",
    "for i in range(10):\n",
    "    print(\"y_pred {} / y_org {}\".format(y_test_pred[i], y_test[i]))\n",
    "    plt.figure(figsize=(2, 2))\n",
    "\n",
    "    plt.imshow(X_test[i,:].reshape(8,8))\n",
    "    plt.show()"
   ]
  },
  {
   "cell_type": "markdown",
   "metadata": {},
   "source": [
    "Do previous steps with sklearn"
   ]
  },
  {
   "cell_type": "code",
   "execution_count": null,
   "metadata": {
    "pycharm": {
     "name": "#%%\n"
    }
   },
   "outputs": [],
   "source": [
    "from sklearn.neighbors import KNeighborsClassifier\n",
    "\n",
    "sklearn_clf = KNeighborsClassifier(n_neighbors=5)\n",
    "sklearn_clf.fit(X_train, y_train)\n",
    "\n",
    "y_train_pred = sklearn_clf.predict(X_train)\n",
    "train_err = mean_squared_error(y_train, y_train_pred)\n",
    "print(\"train error= \", train_err)\n",
    "\n",
    "y_val_pred = sklearn_clf.predict(X_val)\n",
    "validation_err = mean_squared_error(y_val, y_val_pred)\n",
    "print(\"validation error= \", validation_err)\n",
    "\n",
    "y_test_pred = sklearn_clf.predict(X_test)\n",
    "test_err = mean_squared_error(y_test, y_test_pred)\n",
    "print(\"test error= \", test_err)"
   ]
  },
  {
   "cell_type": "code",
   "execution_count": null,
   "metadata": {
    "pycharm": {
     "name": "#%%\n"
    }
   },
   "outputs": [],
   "source": [
    "from sklearn.metrics import confusion_matrix\n",
    "\n",
    "print(\"train confusion matrix\")\n",
    "confusion_matrix(y_train, y_train_pred)\n",
    "\n",
    "print(\"validation confusion matrix\")\n",
    "confusion_matrix(y_val, y_val_pred)\n",
    "\n",
    "print(\"test confusion matrix\")\n",
    "confusion_matrix(y_test, y_test_pred)"
   ]
  },
  {
   "cell_type": "code",
   "execution_count": null,
   "metadata": {
    "pycharm": {
     "name": "#%%\n"
    }
   },
   "outputs": [],
   "source": [
    "import matplotlib.pyplot as plt\n",
    "\n",
    "for i in range(10):\n",
    "    print(\"y_pred {} / y_org {}\".format(y_test_pred[i], y_test[i]))\n",
    "    plt.figure(figsize=(2, 2))\n",
    "\n",
    "    plt.imshow(X_test[i,:].reshape(8,8))\n",
    "    \n",
    "    plt.show()\n",
    "\n"
   ]
  }
 ],
 "metadata": {
  "kernelspec": {
   "display_name": "Python 3",
   "language": "python",
   "name": "python3"
  },
  "language_info": {
   "codemirror_mode": {
    "name": "ipython",
    "version": 3
   },
   "file_extension": ".py",
   "mimetype": "text/x-python",
   "name": "python",
   "nbconvert_exporter": "python",
   "pygments_lexer": "ipython3",
   "version": "3.8.5"
  }
 },
 "nbformat": 4,
 "nbformat_minor": 1
}
