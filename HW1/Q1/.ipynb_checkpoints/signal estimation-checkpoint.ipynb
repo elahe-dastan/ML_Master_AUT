{
 "cells": [
  {
   "cell_type": "markdown",
   "metadata": {},
   "source": [
    "A) Reading data and plotting it"
   ]
  },
  {
   "cell_type": "code",
   "execution_count": 2,
   "metadata": {},
   "outputs": [
    {
     "data": {
      "image/png": "[encoded data removed]",
      "text/plain": [
       "<Figure size 432x288 with 1 Axes>"
      ]
     },
     "metadata": {
      "needs_background": "light"
     },
     "output_type": "display_data"
    }
   ],
   "source": [
    "import pandas as pd\n",
    "import matplotlib.pyplot as plt\n",
    "from sklearn.model_selection import train_test_split\n",
    "\n",
    "df = pd.read_csv('p1_dataset/data1_Signal.csv')\n",
    "x, y = df['x'], df['y']\n",
    "\n",
    "plt.scatter(x, y)\n",
    "plt.show()\n",
    "\n",
    "X_train, X_test, y_train, y_test = train_test_split(x, y, test_size=0.33, random_state=42)"
   ]
  },
  {
   "cell_type": "markdown",
   "metadata": {},
   "source": [
    "In this HW we had to implement regression and gradient descent ourselves in python. I've done this before in Golang which tended to be faster (check [newborn repo](https://github.com/elahe-dastan/newborn) if intersted) because Golang is faster than python I didn't do any test but if you are about to do something similar pay attention that the vectorization used in python like what numpy does most of the time boosts the speed which we may not have in other languages.<br/>\n",
    "knowing the simple math behind these algorithms is enough for implementation:<br/>\n",
    "[check here for the math behind](https://elahe-dastan.github.io/newborn/)"
   ]
  },
  {
   "cell_type": "code",
   "execution_count": 70,
   "metadata": {},
   "outputs": [],
   "source": [
    "import numpy as np\n",
    "from sklearn.metrics import mean_squared_error\n",
    "from sklearn.metrics import mean_absolute_error\n",
    "from math import sqrt\n",
    "\n",
    "class regression:\n",
    "    GRADIENT_DESCENT = 'gradient_descent'\n",
    "    NORMAL_EQUATION = 'normal_equation'\n",
    "    def __init__(self, degree: int, method=GRADIENT_DESCENT):\n",
    "        self.degree = degree\n",
    "        # Example:\n",
    "        # if the training dataset has feature x and the degree is 2 it uses both x and x^2 for training.\n",
    "        self.method = method\n",
    "        self.coefficients = None\n",
    "    \n",
    "    def initialization(self, x):\n",
    "        features_num = x.shape[1]\n",
    "        \n",
    "        # plus 1 is for considering bias\n",
    "        self.coefficients = np.random.random((self.degree * features_num) + 1)\n",
    "        \n",
    "        for i in range(self.degree-1):\n",
    "            x = np.c_[x, np.multiply(x[:, 0:features_num], x[:, i*features_num:(i+1)*features_num])]\n",
    "        \n",
    "        # putting a vector of one in the first column for bias\n",
    "        x = np.c_[np.ones(len(x)), x]\n",
    "        \n",
    "        return x\n",
    "\n",
    "    def train(self, x: np.array, y: np.array, learning_rate=0.1, iteration=10000, lam=0):\n",
    "        if self.method == self.GRADIENT_DESCENT:\n",
    "            self.__train_gradient_descent(x, y, learning_rate, iteration)\n",
    "        elif self.method == self.NORMAL_EQUATION:\n",
    "            self.__normal_equation(x, y, lam)\n",
    "        else:\n",
    "            print('I only know the methods {:s} and {:s}'.format(self.GRADIENT_DESCENT, self.NORMAL_EQUATION))\n",
    "        \n",
    "    def __train_gradient_descent(self, x: np.array, y: np.array, learning_rate: float, iteration: int):\n",
    "        x = self.initialization(x)\n",
    "        \n",
    "        for i in range(iteration):\n",
    "            self.gradient_descent(x, y, learning_rate)\n",
    "    \n",
    "    def gradient_descent(self, x, y, learning_rate: float):\n",
    "        m = len(x)\n",
    "        prediction = x.dot(self.coefficients)\n",
    "        self.coefficients -= learning_rate * 1/m * (x.T.dot(prediction - y))\n",
    "    \n",
    "    def predict(self, x):\n",
    "        x = self.initialization(x)\n",
    "        \n",
    "        return x.dot(self.coefficients)\n",
    "    \n",
    "    def __normal_equation(self, x, y, lam: float):\n",
    "        features_num = x.shape[1]\n",
    "        x = self.initialization(x)\n",
    "        mat = np.eye((self.degree * features_num) + 1)\n",
    "        mat[0][0] = 0\n",
    "        self.coefficients = np.linalg.inv(x.T.dot(x) + lam * mat).dot(x.T.dot(y))\n",
    "    \n",
    "    # Overfitting means the error on training data is reducing but it start to increase on test data\n",
    "    # so the model can't generalize I could check it outside the class by training several times with\n",
    "    # different number of iterations but this has a lower cost computationally.\n",
    "    # Example:\n",
    "    # if iteration = 10000 and step = 100 then the functions measures error each 100 iterations so\n",
    "    # it measures it 10000/100 = 100 times\n",
    "    def track_overfitting(self, X_train, X_test, y_train, y_test, learning_rate, iteration: int, step: int):\n",
    "        X_train = self.initialization(X_train)\n",
    "        X_test = self.initialization(X_test)\n",
    "        \n",
    "        steps = np.array([0])\n",
    "        train_error_mse = np.array([])\n",
    "        test_error_mse = np.array([])\n",
    "        \n",
    "        train_error_mae = np.array([])\n",
    "        test_error_mae = np.array([])\n",
    "        \n",
    "        train_error_rmse = np.array([])\n",
    "        test_error_rmse = np.array([])\n",
    "        \n",
    "        while iteration > step:\n",
    "            for i in range(step):\n",
    "                self.gradient_descent(X_train, y_train, learning_rate)\n",
    "            \n",
    "            steps = np.append(steps, steps[len(steps) - 1] + step)\n",
    "            \n",
    "            y_train_predicted = X_train.dot(self.coefficients)\n",
    "            train_error_mse = np.append(train_error_mse, mean_squared_error(y_train, y_train_predicted))\n",
    "            train_error_mae = np.append(train_error_mae, mean_absolute_error(y_train, y_train_predicted))\n",
    "            train_error_rmse = np.append(train_error_rmse, sqrt(mean_squared_error(y_train, y_train_predicted)))  \n",
    "            \n",
    "#             y_test_predicted = self.predict(X_test)\n",
    "#             test_error_mse = np.append(test_error_mse, mean_squared_error(y_test, y_test_predicted))\n",
    "#             test_error_mae = np.append(test_error_mae, mean_absolute_error(y_test, y_test_predicted))\n",
    "#             test_error_rmse = np.append(test_error_rmse, sqrt(mean_squared_error(y_test, y_test_predicted)))\n",
    "                                         \n",
    "#             iteration -= step\n",
    "\n",
    "#         for i in range(iteration):\n",
    "#             self.gradient_descent(X_train, y_train, learning_rate)    \n",
    "        \n",
    "#         y_train_predicted = self.predict(X_train)\n",
    "#         train_error_mse = np.append(train_error_mse, mean_squared_error(y_train, y_train_predicted))\n",
    "#         train_error_mae = np.append(train_error_mae, mean_absolute_error(y_train, y_train_predicted))\n",
    "#         train_error_rmse = np.append(train_error_rmse, sqrt(mean_squared_error(y_train, y_train_predicted)))\n",
    "                                     \n",
    "#         y_test_predicted = self.predict(X_test)\n",
    "#         test_error_mse = np.append(test_error_mse, mean_squared_error(y_test, y_test_predicted))\n",
    "#         test_error_mae = np.append(test_error_mae, mean_absolute_error(y_test, y_test_predicted))\n",
    "#         test_error_rmse = np.append(test_error_rmse, sqrt(mean_squared_error(y_test, y_test_predicted)))\n",
    "                                    \n",
    "#         plt.scatter(steps, train_error_mse, c='blue')\n",
    "#         plt.scatter(steps, test_error_mse, c='red')\n",
    "#         plt.title('mean squared error')\n",
    "#         plt.xlabel('steps')\n",
    "#         plt.ylabel('error')\n",
    "#         plt.show()\n",
    "        \n",
    "#         plt.scatter(steps, train_error_mae, c='blue')\n",
    "#         plt.scatter(steps, test_error_mae, c='red')\n",
    "#         plt.title('mean absolute error')\n",
    "#         plt.xlabel('steps')\n",
    "#         plt.ylabel('error')\n",
    "#         plt.show()\n",
    "                                    \n",
    "#         plt.scatter(steps, train_error_rmse, c='blue')\n",
    "#         plt.scatter(steps, test_error_rmse, c='red')\n",
    "#         plt.title('root mean squared error')\n",
    "#         plt.xlabel('steps')\n",
    "#         plt.ylabel('error')\n",
    "#         plt.show() \n",
    "        \n",
    "#         print('for the degree {:d} and {:d} iterations the errors for training set are MSE = {}, '\n",
    "#               'MAE = {} and RMSE = {} and the errors for test set are MSE = {}, MAE = {} and RMSE = {}'\n",
    "#               .format(self.degree, iteration, train_error_mse[len(train_error_mse)-1],\n",
    "#                       train_error_mae[len(train_error_mae)-1], train_error_rmse[len(train_error_rmse)-1],\n",
    "#                      test_error_mse[len(test_error_mse)-1], test_error_mae[len(test_error_mae)-1],\n",
    "#                       test_error_rmse[len(test_error_rmse)-1]))       "
   ]
  },
  {
   "cell_type": "markdown",
   "metadata": {},
   "source": [
    "Report"
   ]
  },
  {
   "cell_type": "code",
   "execution_count": 71,
   "metadata": {},
   "outputs": [
    {
     "ename": "KeyboardInterrupt",
     "evalue": "",
     "output_type": "error",
     "traceback": [
      "\u001b[0;31m---------------------------------------------------------------------------\u001b[0m",
      "\u001b[0;31mKeyboardInterrupt\u001b[0m                         Traceback (most recent call last)",
      "\u001b[0;32m<ipython-input-71-d53896e79f8c>\u001b[0m in \u001b[0;36m<module>\u001b[0;34m\u001b[0m\n\u001b[1;32m      1\u001b[0m \u001b[0mreg\u001b[0m \u001b[0;34m=\u001b[0m \u001b[0mregression\u001b[0m\u001b[0;34m(\u001b[0m\u001b[0;36m7\u001b[0m\u001b[0;34m)\u001b[0m\u001b[0;34m\u001b[0m\u001b[0;34m\u001b[0m\u001b[0m\n\u001b[0;32m----> 2\u001b[0;31m \u001b[0mreg\u001b[0m\u001b[0;34m.\u001b[0m\u001b[0mtrack_overfitting\u001b[0m\u001b[0;34m(\u001b[0m\u001b[0mnp\u001b[0m\u001b[0;34m.\u001b[0m\u001b[0marray\u001b[0m\u001b[0;34m(\u001b[0m\u001b[0mX_train\u001b[0m\u001b[0;34m)\u001b[0m\u001b[0;34m.\u001b[0m\u001b[0mreshape\u001b[0m\u001b[0;34m(\u001b[0m\u001b[0mlen\u001b[0m\u001b[0;34m(\u001b[0m\u001b[0mX_train\u001b[0m\u001b[0;34m)\u001b[0m\u001b[0;34m,\u001b[0m \u001b[0;36m1\u001b[0m\u001b[0;34m)\u001b[0m\u001b[0;34m,\u001b[0m \u001b[0mnp\u001b[0m\u001b[0;34m.\u001b[0m\u001b[0marray\u001b[0m\u001b[0;34m(\u001b[0m\u001b[0mX_test\u001b[0m\u001b[0;34m)\u001b[0m\u001b[0;34m.\u001b[0m\u001b[0mreshape\u001b[0m\u001b[0;34m(\u001b[0m\u001b[0mlen\u001b[0m\u001b[0;34m(\u001b[0m\u001b[0mX_test\u001b[0m\u001b[0;34m)\u001b[0m\u001b[0;34m,\u001b[0m \u001b[0;36m1\u001b[0m\u001b[0;34m)\u001b[0m\u001b[0;34m,\u001b[0m \u001b[0mnp\u001b[0m\u001b[0;34m.\u001b[0m\u001b[0marray\u001b[0m\u001b[0;34m(\u001b[0m\u001b[0my_train\u001b[0m\u001b[0;34m)\u001b[0m\u001b[0;34m,\u001b[0m \u001b[0mnp\u001b[0m\u001b[0;34m.\u001b[0m\u001b[0marray\u001b[0m\u001b[0;34m(\u001b[0m\u001b[0my_test\u001b[0m\u001b[0;34m)\u001b[0m\u001b[0;34m,\u001b[0m \u001b[0;36m0.6\u001b[0m\u001b[0;34m,\u001b[0m \u001b[0;36m10000\u001b[0m\u001b[0;34m,\u001b[0m \u001b[0;36m20\u001b[0m\u001b[0;34m)\u001b[0m\u001b[0;34m\u001b[0m\u001b[0;34m\u001b[0m\u001b[0m\n\u001b[0m",
      "\u001b[0;32m<ipython-input-70-e030f4efe539>\u001b[0m in \u001b[0;36mtrack_overfitting\u001b[0;34m(self, X_train, X_test, y_train, y_test, learning_rate, iteration, step)\u001b[0m\n\u001b[1;32m     83\u001b[0m                 \u001b[0mself\u001b[0m\u001b[0;34m.\u001b[0m\u001b[0mgradient_descent\u001b[0m\u001b[0;34m(\u001b[0m\u001b[0mX_train\u001b[0m\u001b[0;34m,\u001b[0m \u001b[0my_train\u001b[0m\u001b[0;34m,\u001b[0m \u001b[0mlearning_rate\u001b[0m\u001b[0;34m)\u001b[0m\u001b[0;34m\u001b[0m\u001b[0;34m\u001b[0m\u001b[0m\n\u001b[1;32m     84\u001b[0m \u001b[0;34m\u001b[0m\u001b[0m\n\u001b[0;32m---> 85\u001b[0;31m             \u001b[0msteps\u001b[0m \u001b[0;34m=\u001b[0m \u001b[0mnp\u001b[0m\u001b[0;34m.\u001b[0m\u001b[0mappend\u001b[0m\u001b[0;34m(\u001b[0m\u001b[0msteps\u001b[0m\u001b[0;34m,\u001b[0m \u001b[0msteps\u001b[0m\u001b[0;34m[\u001b[0m\u001b[0mlen\u001b[0m\u001b[0;34m(\u001b[0m\u001b[0msteps\u001b[0m\u001b[0;34m)\u001b[0m \u001b[0;34m-\u001b[0m \u001b[0;36m1\u001b[0m\u001b[0;34m]\u001b[0m \u001b[0;34m+\u001b[0m \u001b[0mstep\u001b[0m\u001b[0;34m)\u001b[0m\u001b[0;34m\u001b[0m\u001b[0;34m\u001b[0m\u001b[0m\n\u001b[0m\u001b[1;32m     86\u001b[0m \u001b[0;34m\u001b[0m\u001b[0m\n\u001b[1;32m     87\u001b[0m             \u001b[0my_train_predicted\u001b[0m \u001b[0;34m=\u001b[0m \u001b[0mX_train\u001b[0m\u001b[0;34m.\u001b[0m\u001b[0mdot\u001b[0m\u001b[0;34m(\u001b[0m\u001b[0mself\u001b[0m\u001b[0;34m.\u001b[0m\u001b[0mcoefficients\u001b[0m\u001b[0;34m)\u001b[0m\u001b[0;34m\u001b[0m\u001b[0;34m\u001b[0m\u001b[0m\n",
      "\u001b[0;32m<__array_function__ internals>\u001b[0m in \u001b[0;36mappend\u001b[0;34m(*args, **kwargs)\u001b[0m\n",
      "\u001b[0;32m~/anaconda3/lib/python3.8/site-packages/numpy/lib/function_base.py\u001b[0m in \u001b[0;36mappend\u001b[0;34m(arr, values, axis)\u001b[0m\n\u001b[1;32m   4691\u001b[0m         \u001b[0mvalues\u001b[0m \u001b[0;34m=\u001b[0m \u001b[0mravel\u001b[0m\u001b[0;34m(\u001b[0m\u001b[0mvalues\u001b[0m\u001b[0;34m)\u001b[0m\u001b[0;34m\u001b[0m\u001b[0;34m\u001b[0m\u001b[0m\n\u001b[1;32m   4692\u001b[0m         \u001b[0maxis\u001b[0m \u001b[0;34m=\u001b[0m \u001b[0marr\u001b[0m\u001b[0;34m.\u001b[0m\u001b[0mndim\u001b[0m\u001b[0;34m-\u001b[0m\u001b[0;36m1\u001b[0m\u001b[0;34m\u001b[0m\u001b[0;34m\u001b[0m\u001b[0m\n\u001b[0;32m-> 4693\u001b[0;31m     \u001b[0;32mreturn\u001b[0m \u001b[0mconcatenate\u001b[0m\u001b[0;34m(\u001b[0m\u001b[0;34m(\u001b[0m\u001b[0marr\u001b[0m\u001b[0;34m,\u001b[0m \u001b[0mvalues\u001b[0m\u001b[0;34m)\u001b[0m\u001b[0;34m,\u001b[0m \u001b[0maxis\u001b[0m\u001b[0;34m=\u001b[0m\u001b[0maxis\u001b[0m\u001b[0;34m)\u001b[0m\u001b[0;34m\u001b[0m\u001b[0;34m\u001b[0m\u001b[0m\n\u001b[0m\u001b[1;32m   4694\u001b[0m \u001b[0;34m\u001b[0m\u001b[0m\n\u001b[1;32m   4695\u001b[0m \u001b[0;34m\u001b[0m\u001b[0m\n",
      "\u001b[0;32m<__array_function__ internals>\u001b[0m in \u001b[0;36mconcatenate\u001b[0;34m(*args, **kwargs)\u001b[0m\n",
      "\u001b[0;31mKeyboardInterrupt\u001b[0m: "
     ]
    }
   ],
   "source": [
    "reg = regression(7)\n",
    "reg.track_overfitting(np.array(X_train).reshape(len(X_train), 1), np.array(X_test).reshape(len(X_test), 1), np.array(y_train), np.array(y_test), 0.6, 10000, 20)"
   ]
  },
  {
   "cell_type": "code",
   "execution_count": 13,
   "metadata": {},
   "outputs": [
    {
     "name": "stdout",
     "output_type": "stream",
     "text": [
      "[ 1.35299454 -8.05965114  7.08457265  7.84629581  0.59752319 -9.83150139]\n"
     ]
    },
    {
     "data": {
      "image/png": "[encoded data removed]",
      "text/plain": [
       "<Figure size 432x288 with 1 Axes>"
      ]
     },
     "metadata": {
      "needs_background": "light"
     },
     "output_type": "display_data"
    }
   ],
   "source": [
    "new_reg = regression(5, 0.2)\n",
    "new_reg.train_gradient_descent(np.array(X_train), np.array(y_train), 10000)\n",
    "print(new_reg.coefficients)\n",
    "plt.scatter(X_train, y_train, c='blue')\n",
    "plt.scatter(X_test, new_reg.predict(np.array(X_test)), c='red')\n",
    "plt.show()"
   ]
  },
  {
   "cell_type": "code",
   "execution_count": 14,
   "metadata": {},
   "outputs": [
    {
     "name": "stdout",
     "output_type": "stream",
     "text": [
      "[   1.04566373   -4.93463674   27.45110443 -144.29479783  263.50748606\n",
      " -145.46910369]\n"
     ]
    },
    {
     "data": {
      "image/png": "[encoded data removed]",
      "text/plain": [
       "<Figure size 432x288 with 1 Axes>"
      ]
     },
     "metadata": {
      "needs_background": "light"
     },
     "output_type": "display_data"
    }
   ],
   "source": [
    "reg = regression(5, 0.2)\n",
    "reg.normal_equation(np.array(X_train), np.array(y_train), 0)\n",
    "print(reg.coefficients)\n",
    "plt.scatter(X_train, y_train, c='blue')\n",
    "plt.scatter(X_test, reg.predict(np.array(X_test)), c='red')\n",
    "plt.show()"
   ]
  },
  {
   "cell_type": "code",
   "execution_count": null,
   "metadata": {},
   "outputs": [],
   "source": []
  }
 ],
 "metadata": {
  "kernelspec": {
   "display_name": "Python 3",
   "language": "python",
   "name": "python3"
  },
  "language_info": {
   "codemirror_mode": {
    "name": "ipython",
    "version": 3
   },
   "file_extension": ".py",
   "mimetype": "text/x-python",
   "name": "python",
   "nbconvert_exporter": "python",
   "pygments_lexer": "ipython3",
   "version": "3.8.3"
  }
 },
 "nbformat": 4,
 "nbformat_minor": 4
}
