{
 "cells": [
  {
   "cell_type": "code",
   "execution_count": 3,
   "metadata": {},
   "outputs": [
    {
     "name": "stdout",
     "output_type": "stream",
     "text": [
      "       Id  LotFrontage  LotArea  YearBuilt  BedroomAbvGr  KitchenAbvGr  YrSold\n",
      "0       1           65     8450       2003             3             1    2008\n",
      "1       2           80     9600       1976             3             1    2007\n",
      "2       3           68    11250       2001             3             1    2008\n",
      "3       4           60     9550       1915             3             1    2006\n",
      "4       5           84    14260       2000             4             1    2008\n",
      "..    ...          ...      ...        ...           ...           ...     ...\n",
      "995   996           90    14684       1990             3             1    2009\n",
      "996   997           70     9135       2003             3             1    2006\n",
      "997   998           70     7763       1962             3             1    2008\n",
      "998   999           85    10182       2006             3             1    2006\n",
      "999  1000           70    11218       1992             3             1    2010\n",
      "\n",
      "[1000 rows x 7 columns]\n",
      "1000    164000\n",
      "1001    113000\n",
      "1002    134500\n",
      "1003    125000\n",
      "1004    112000\n",
      "         ...  \n",
      "1195    185000\n",
      "1196    175000\n",
      "1197    210000\n",
      "1198    266500\n",
      "1199    142125\n",
      "Name: SalePrice, Length: 200, dtype: int64\n"
     ]
    }
   ],
   "source": [
    "import pandas as pd\n",
    "\n",
    "data = pd.read_csv('p3_dataset/data3_house_data.csv')\n",
    "y = data['SalePrice']\n",
    "x = data.drop(columns=['SalePrice'])\n",
    "X_train, y_train, X_test, y_test = x[0:1000], y[0:1000], x[1000:], y[1000:]\n",
    "print(X_train)\n",
    "print(y_test)"
   ]
  },
  {
   "cell_type": "code",
   "execution_count": null,
   "metadata": {},
   "outputs": [],
   "source": []
  }
 ],
 "metadata": {
  "kernelspec": {
   "display_name": "Python 3",
   "language": "python",
   "name": "python3"
  },
  "language_info": {
   "codemirror_mode": {
    "name": "ipython",
    "version": 3
   },
   "file_extension": ".py",
   "mimetype": "text/x-python",
   "name": "python",
   "nbconvert_exporter": "python",
   "pygments_lexer": "ipython3",
   "version": "3.8.3"
  }
 },
 "nbformat": 4,
 "nbformat_minor": 4
}
