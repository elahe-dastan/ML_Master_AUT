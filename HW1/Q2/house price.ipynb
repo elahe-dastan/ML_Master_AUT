{
 "cells": [
  {
   "cell_type": "markdown",
   "metadata": {},
   "source": [
    "A) Plotting data using their coordinates"
   ]
  },
  {
   "cell_type": "code",
   "execution_count": 1,
   "metadata": {},
   "outputs": [
    {
     "data": {
      "text/plain": "<Figure size 432x288 with 1 Axes>",
      "image/png": "[encoded data removed]"
     },
     "metadata": {
      "needs_background": "light"
     },
     "output_type": "display_data"
    }
   ],
   "source": [
    "import pandas as pd\n",
    "import matplotlib.pyplot as plt\n",
    "\n",
    "data = pd.read_csv('p2_dataset/data2_house_data.csv')\n",
    "lat, long = data['lat'], data['long']\n",
    "\n",
    "plt.scatter(lat, long)\n",
    "plt.show()"
   ]
  },
  {
   "cell_type": "code",
   "execution_count": 2,
   "outputs": [],
   "source": [
    "y = data['price']\n",
    "x = data.drop(columns=['price'])"
   ],
   "metadata": {
    "collapsed": false,
    "pycharm": {
     "name": "#%%\n"
    }
   }
  },
  {
   "cell_type": "code",
   "execution_count": 3,
   "outputs": [
    {
     "name": "stdout",
     "output_type": "stream",
     "text": [
      "<class 'pandas.core.frame.DataFrame'>\n",
      "RangeIndex: 21613 entries, 0 to 21612\n",
      "Data columns (total 20 columns):\n",
      " #   Column         Non-Null Count  Dtype  \n",
      "---  ------         --------------  -----  \n",
      " 0   id             21613 non-null  int64  \n",
      " 1   date           21613 non-null  object \n",
      " 2   bedrooms       21613 non-null  int64  \n",
      " 3   bathrooms      21613 non-null  float64\n",
      " 4   sqft_living    21613 non-null  int64  \n",
      " 5   sqft_lot       21613 non-null  int64  \n",
      " 6   floors         21613 non-null  float64\n",
      " 7   waterfront     21613 non-null  int64  \n",
      " 8   view           21613 non-null  int64  \n",
      " 9   condition      21613 non-null  int64  \n",
      " 10  grade          21613 non-null  int64  \n",
      " 11  sqft_above     21613 non-null  int64  \n",
      " 12  sqft_basement  21613 non-null  int64  \n",
      " 13  yr_built       21613 non-null  int64  \n",
      " 14  yr_renovated   21613 non-null  int64  \n",
      " 15  zipcode        21613 non-null  int64  \n",
      " 16  lat            21613 non-null  float64\n",
      " 17  long           21613 non-null  float64\n",
      " 18  sqft_living15  21613 non-null  int64  \n",
      " 19  sqft_lot15     21613 non-null  int64  \n",
      "dtypes: float64(4), int64(15), object(1)\n",
      "memory usage: 3.3+ MB\n",
      "None\n",
      "21613\n",
      "372\n"
     ]
    }
   ],
   "source": [
    "print(x.info())\n",
    "\n",
    "print(len(x['date']))\n",
    "print(len(x['date'].unique()))"
   ],
   "metadata": {
    "collapsed": false,
    "pycharm": {
     "name": "#%%\n"
    }
   }
  },
  {
   "cell_type": "markdown",
   "source": [
    "we can only work with numerical columns and from the cell above we find out that all the columns except\n",
    "'date' are numerical. Cause the data itself is ordinal I think using ordinal encoder can perform well\n",
    "although it has problems. The column 'id' also doesn't help our model, so we can drop it."
   ],
   "metadata": {
    "collapsed": false,
    "pycharm": {
     "name": "#%% md\n"
    }
   }
  },
  {
   "cell_type": "code",
   "execution_count": 4,
   "metadata": {},
   "outputs": [
    {
     "name": "stdout",
     "output_type": "stream",
     "text": [
      "<class 'pandas.core.frame.DataFrame'>\n",
      "RangeIndex: 21613 entries, 0 to 21612\n",
      "Data columns (total 20 columns):\n",
      " #   Column         Non-Null Count  Dtype  \n",
      "---  ------         --------------  -----  \n",
      " 0   id             21613 non-null  int64  \n",
      " 1   date           21613 non-null  float64\n",
      " 2   bedrooms       21613 non-null  int64  \n",
      " 3   bathrooms      21613 non-null  float64\n",
      " 4   sqft_living    21613 non-null  int64  \n",
      " 5   sqft_lot       21613 non-null  int64  \n",
      " 6   floors         21613 non-null  float64\n",
      " 7   waterfront     21613 non-null  int64  \n",
      " 8   view           21613 non-null  int64  \n",
      " 9   condition      21613 non-null  int64  \n",
      " 10  grade          21613 non-null  int64  \n",
      " 11  sqft_above     21613 non-null  int64  \n",
      " 12  sqft_basement  21613 non-null  int64  \n",
      " 13  yr_built       21613 non-null  int64  \n",
      " 14  yr_renovated   21613 non-null  int64  \n",
      " 15  zipcode        21613 non-null  int64  \n",
      " 16  lat            21613 non-null  float64\n",
      " 17  long           21613 non-null  float64\n",
      " 18  sqft_living15  21613 non-null  int64  \n",
      " 19  sqft_lot15     21613 non-null  int64  \n",
      "dtypes: float64(5), int64(15)\n",
      "memory usage: 3.3 MB\n",
      "None\n"
     ]
    }
   ],
   "source": [
    "from sklearn.preprocessing import OrdinalEncoder\n",
    "\n",
    "ordinal_encoder = OrdinalEncoder()\n",
    "date = ordinal_encoder.fit_transform(x[['date']])\n",
    "x['date'] = date\n",
    "print(x.info())\n",
    "x = x.drop(columns=['id'])"
   ]
  },
  {
   "cell_type": "markdown",
   "metadata": {},
   "source": [
    "The range of the columns vary a lot, so we **must** normalize cause not only the model will be too weak\n",
    "but also the columns with big numbers lead to nan."
   ]
  },
  {
   "cell_type": "code",
   "execution_count": 5,
   "metadata": {},
   "outputs": [
    {
     "name": "stdout",
     "output_type": "stream",
     "text": [
      "<class 'pandas.core.frame.DataFrame'>\n",
      "RangeIndex: 21613 entries, 0 to 21612\n",
      "Data columns (total 19 columns):\n",
      " #   Column         Non-Null Count  Dtype  \n",
      "---  ------         --------------  -----  \n",
      " 0   date           21613 non-null  float64\n",
      " 1   bedrooms       21613 non-null  int64  \n",
      " 2   bathrooms      21613 non-null  float64\n",
      " 3   sqft_living    21613 non-null  int64  \n",
      " 4   sqft_lot       21613 non-null  int64  \n",
      " 5   floors         21613 non-null  float64\n",
      " 6   waterfront     21613 non-null  int64  \n",
      " 7   view           21613 non-null  int64  \n",
      " 8   condition      21613 non-null  int64  \n",
      " 9   grade          21613 non-null  int64  \n",
      " 10  sqft_above     21613 non-null  int64  \n",
      " 11  sqft_basement  21613 non-null  int64  \n",
      " 12  yr_built       21613 non-null  int64  \n",
      " 13  yr_renovated   21613 non-null  int64  \n",
      " 14  zipcode        21613 non-null  int64  \n",
      " 15  lat            21613 non-null  float64\n",
      " 16  long           21613 non-null  float64\n",
      " 17  sqft_living15  21613 non-null  int64  \n",
      " 18  sqft_lot15     21613 non-null  int64  \n",
      "dtypes: float64(5), int64(14)\n",
      "memory usage: 3.1 MB\n",
      "None\n"
     ]
    }
   ],
   "source": [
    "print(x.info())\n",
    "x=(x-x.mean())/x.std()"
   ]
  },
  {
   "cell_type": "code",
   "execution_count": 6,
   "outputs": [],
   "source": [
    "from sklearn.model_selection import train_test_split\n",
    "\n",
    "X_train, X_test, y_train, y_test = train_test_split(x, y, test_size=0.33, random_state=42)"
   ],
   "metadata": {
    "collapsed": false,
    "pycharm": {
     "name": "#%%\n"
    }
   }
  },
  {
   "cell_type": "markdown",
   "source": [
    "B) Show correlation matrix"
   ],
   "metadata": {
    "collapsed": false,
    "pycharm": {
     "name": "#%% md\n"
    }
   }
  },
  {
   "cell_type": "code",
   "execution_count": 7,
   "outputs": [
    {
     "name": "stdout",
     "output_type": "stream",
     "text": [
      "                     id     price  bedrooms  bathrooms  sqft_living  sqft_lot  \\\n",
      "id             1.000000 -0.016762  0.001286   0.005160    -0.012258 -0.132109   \n",
      "price         -0.016762  1.000000  0.308350   0.525138     0.702035  0.089661   \n",
      "bedrooms       0.001286  0.308350  1.000000   0.515884     0.576671  0.031703   \n",
      "bathrooms      0.005160  0.525138  0.515884   1.000000     0.754665  0.087740   \n",
      "sqft_living   -0.012258  0.702035  0.576671   0.754665     1.000000  0.172826   \n",
      "sqft_lot      -0.132109  0.089661  0.031703   0.087740     0.172826  1.000000   \n",
      "floors         0.018525  0.256794  0.175429   0.500653     0.353949 -0.005201   \n",
      "waterfront    -0.002721  0.266369 -0.006582   0.063744     0.103818  0.021604   \n",
      "view           0.011592  0.397293  0.079532   0.187737     0.284611  0.074710   \n",
      "condition     -0.023783  0.036362  0.028472  -0.124982    -0.058753 -0.008958   \n",
      "grade          0.008130  0.667434  0.356967   0.664983     0.762704  0.113621   \n",
      "sqft_above    -0.010842  0.605567  0.477600   0.685342     0.876597  0.183512   \n",
      "sqft_basement -0.005151  0.323816  0.303093   0.283770     0.435043  0.015286   \n",
      "yr_built       0.021380  0.054012  0.154178   0.506019     0.318049  0.053080   \n",
      "yr_renovated  -0.016907  0.126434  0.018841   0.050739     0.055363  0.007644   \n",
      "zipcode       -0.008224 -0.053203 -0.152668  -0.203866    -0.199430 -0.129574   \n",
      "lat           -0.001891  0.307003 -0.008931   0.024573     0.052529 -0.085683   \n",
      "long           0.020799  0.021626  0.129473   0.223042     0.240223  0.229521   \n",
      "sqft_living15 -0.002901  0.585379  0.391638   0.568634     0.756420  0.144608   \n",
      "sqft_lot15    -0.138798  0.082447  0.029244   0.087175     0.183286  0.718557   \n",
      "\n",
      "                 floors  waterfront      view  condition     grade  \\\n",
      "id             0.018525   -0.002721  0.011592  -0.023783  0.008130   \n",
      "price          0.256794    0.266369  0.397293   0.036362  0.667434   \n",
      "bedrooms       0.175429   -0.006582  0.079532   0.028472  0.356967   \n",
      "bathrooms      0.500653    0.063744  0.187737  -0.124982  0.664983   \n",
      "sqft_living    0.353949    0.103818  0.284611  -0.058753  0.762704   \n",
      "sqft_lot      -0.005201    0.021604  0.074710  -0.008958  0.113621   \n",
      "floors         1.000000    0.023698  0.029444  -0.263768  0.458183   \n",
      "waterfront     0.023698    1.000000  0.401857   0.016653  0.082775   \n",
      "view           0.029444    0.401857  1.000000   0.045990  0.251321   \n",
      "condition     -0.263768    0.016653  0.045990   1.000000 -0.144674   \n",
      "grade          0.458183    0.082775  0.251321  -0.144674  1.000000   \n",
      "sqft_above     0.523885    0.072075  0.167649  -0.158214  0.755923   \n",
      "sqft_basement -0.245705    0.080588  0.276947   0.174105  0.168392   \n",
      "yr_built       0.489319   -0.026161 -0.053440  -0.361417  0.446963   \n",
      "yr_renovated   0.006338    0.092885  0.103917  -0.060618  0.014414   \n",
      "zipcode       -0.059121    0.030285  0.084827   0.003026 -0.184862   \n",
      "lat            0.049614   -0.014274  0.006157  -0.014941  0.114084   \n",
      "long           0.125419   -0.041910 -0.078400  -0.106500  0.198372   \n",
      "sqft_living15  0.279885    0.086463  0.280439  -0.092824  0.713202   \n",
      "sqft_lot15    -0.011269    0.030703  0.072575  -0.003406  0.119248   \n",
      "\n",
      "               sqft_above  sqft_basement  yr_built  yr_renovated   zipcode  \\\n",
      "id              -0.010842      -0.005151  0.021380     -0.016907 -0.008224   \n",
      "price            0.605567       0.323816  0.054012      0.126434 -0.053203   \n",
      "bedrooms         0.477600       0.303093  0.154178      0.018841 -0.152668   \n",
      "bathrooms        0.685342       0.283770  0.506019      0.050739 -0.203866   \n",
      "sqft_living      0.876597       0.435043  0.318049      0.055363 -0.199430   \n",
      "sqft_lot         0.183512       0.015286  0.053080      0.007644 -0.129574   \n",
      "floors           0.523885      -0.245705  0.489319      0.006338 -0.059121   \n",
      "waterfront       0.072075       0.080588 -0.026161      0.092885  0.030285   \n",
      "view             0.167649       0.276947 -0.053440      0.103917  0.084827   \n",
      "condition       -0.158214       0.174105 -0.361417     -0.060618  0.003026   \n",
      "grade            0.755923       0.168392  0.446963      0.014414 -0.184862   \n",
      "sqft_above       1.000000      -0.051943  0.423898      0.023285 -0.261190   \n",
      "sqft_basement   -0.051943       1.000000 -0.133124      0.071323  0.074845   \n",
      "yr_built         0.423898      -0.133124  1.000000     -0.224874 -0.346869   \n",
      "yr_renovated     0.023285       0.071323 -0.224874      1.000000  0.064357   \n",
      "zipcode         -0.261190       0.074845 -0.346869      0.064357  1.000000   \n",
      "lat             -0.000816       0.110538 -0.148122      0.029398  0.267048   \n",
      "long             0.343803      -0.144765  0.409356     -0.068372 -0.564072   \n",
      "sqft_living15    0.731870       0.200355  0.326229     -0.002673 -0.279033   \n",
      "sqft_lot15       0.194050       0.017276  0.070958      0.007854 -0.147221   \n",
      "\n",
      "                    lat      long  sqft_living15  sqft_lot15  \n",
      "id            -0.001891  0.020799      -0.002901   -0.138798  \n",
      "price          0.307003  0.021626       0.585379    0.082447  \n",
      "bedrooms      -0.008931  0.129473       0.391638    0.029244  \n",
      "bathrooms      0.024573  0.223042       0.568634    0.087175  \n",
      "sqft_living    0.052529  0.240223       0.756420    0.183286  \n",
      "sqft_lot      -0.085683  0.229521       0.144608    0.718557  \n",
      "floors         0.049614  0.125419       0.279885   -0.011269  \n",
      "waterfront    -0.014274 -0.041910       0.086463    0.030703  \n",
      "view           0.006157 -0.078400       0.280439    0.072575  \n",
      "condition     -0.014941 -0.106500      -0.092824   -0.003406  \n",
      "grade          0.114084  0.198372       0.713202    0.119248  \n",
      "sqft_above    -0.000816  0.343803       0.731870    0.194050  \n",
      "sqft_basement  0.110538 -0.144765       0.200355    0.017276  \n",
      "yr_built      -0.148122  0.409356       0.326229    0.070958  \n",
      "yr_renovated   0.029398 -0.068372      -0.002673    0.007854  \n",
      "zipcode        0.267048 -0.564072      -0.279033   -0.147221  \n",
      "lat            1.000000 -0.135512       0.048858   -0.086419  \n",
      "long          -0.135512  1.000000       0.334605    0.254451  \n",
      "sqft_living15  0.048858  0.334605       1.000000    0.183192  \n",
      "sqft_lot15    -0.086419  0.254451       0.183192    1.000000  \n"
     ]
    },
    {
     "data": {
      "text/plain": "<Figure size 288x288 with 1 Axes>",
      "image/png": "[encoded data removed]"
     },
     "metadata": {
      "needs_background": "light"
     },
     "output_type": "display_data"
    }
   ],
   "source": [
    "print(data.corr())\n",
    "plt.matshow(data.corr())\n",
    "plt.show()"
   ],
   "metadata": {
    "collapsed": false,
    "pycharm": {
     "name": "#%%\n"
    }
   }
  },
  {
   "cell_type": "markdown",
   "source": [
    "If the correlation between two features is close to 1 or -1 it means we can find one feature using the other,\n",
    "so keeping both of the features is not necessary, and we can drop one of them.<br/>\n",
    "Here are some high correlations:<br/>\n",
    "bathroom-sqft_living:0.75\n",
    "sqft_livin-grade:0.76\n",
    "sqft_livin-sqft_above:0.87\n",
    "sqft_living-sqft_living15:0.75\n",
    "\n",
    "sqft_lot-sqft_lot15:0.71\n",
    "grade-sqft_above:0.75\n",
    "grade-sqft_livin15:0.71"
   ],
   "metadata": {
    "collapsed": false
   }
  },
  {
   "cell_type": "markdown",
   "source": [
    "Considering the correlations I decided to drop 'sqft_above', 'sqft_living15',\n",
    " 'sqft_lot15' and 'sqft_living'"
   ],
   "metadata": {
    "collapsed": false
   }
  },
  {
   "cell_type": "code",
   "execution_count": 8,
   "outputs": [],
   "source": [
    "X_train_chosen = X_train.drop(columns=['sqft_above', 'sqft_living15', 'sqft_lot15', 'sqft_living'])\n",
    "X_test_chosen = X_test.drop(columns=['sqft_above', 'sqft_living15', 'sqft_lot15', 'sqft_living'])"
   ],
   "metadata": {
    "collapsed": false,
    "pycharm": {
     "name": "#%%\n"
    }
   }
  },
  {
   "cell_type": "markdown",
   "source": [
    "D) It's asked to fit a model using gradient descent and choose the best parameters. The first thing\n",
    "that may pop in mind is to use GridSearchCV but we can't use it because GridSearchCV can only work\n",
    "with scikit-learn classes cause the estimators should implement certain functions like 'get_params'\n",
    "I can either implement all the methods needed or use 'for loop' instead"
   ],
   "metadata": {
    "collapsed": false,
    "pycharm": {
     "name": "#%% md\n"
    }
   }
  },
  {
   "cell_type": "code",
   "execution_count": 33,
   "metadata": {},
   "outputs": [
    {
     "data": {
      "text/plain": "<Figure size 432x288 with 1 Axes>",
      "image/png": "[encoded data removed]"
     },
     "metadata": {
      "needs_background": "light"
     },
     "output_type": "display_data"
    },
    {
     "name": "stdout",
     "output_type": "stream",
     "text": [
      "2.0868699843089388e+18\n",
      "1.6096568046437916e+18\n"
     ]
    },
    {
     "data": {
      "text/plain": "<Figure size 432x288 with 1 Axes>",
      "image/png": "[encoded data removed]"
     },
     "metadata": {
      "needs_background": "light"
     },
     "output_type": "display_data"
    }
   ],
   "source": [
    "%run ../regression.ipynb\n",
    "\n",
    "degrees = [3, 5, 7]\n",
    "learning_rates = [0.2, 0.4, 0.6]\n",
    "iterations = [1000, 10000, 100000]\n",
    "\n",
    "mse = 100000000000000000000000000\n",
    "mse_chosen = 10000000000000000000000\n",
    "best_reg = None\n",
    "best_reg_chosen = None\n",
    "\n",
    "for degree in degrees:\n",
    "    for learning_rate in learning_rates:\n",
    "        for iteration in iterations:\n",
    "            reg = regression(degree=degree)\n",
    "            reg.train(np.array(X_train), np.array(y_train), learning_rate, iteration)\n",
    "            err = mean_squared_error(y_test, reg.predict(np.array(X_test)))\n",
    "            if err < mse:\n",
    "                mse = err\n",
    "                best_reg = reg\n",
    "\n",
    "            reg_chosen = regression(degree=degree)\n",
    "            reg_chosen.train(np.array(X_train_chosen), np.array(y_train), learning_rate, iteration)\n",
    "            err = mean_squared_error(y_test, reg_chosen.predict(np.array(X_test_chosen)))\n",
    "            if err < mse_chosen:\n",
    "                mse_chosen = err\n",
    "                best_reg_chosen = reg_chosen\n",
    "\n",
    "plt.scatter(X_train['lat'], y_train, c='blue')\n",
    "# plt.scatter(X_test['lat'], best_reg.predict(np.array(X_test)), c='red')\n",
    "plt.show()\n",
    "print(mse)\n",
    "\n",
    "plt.scatter(X_train['lat'], y_train, c='blue')\n",
    "# plt.scatter(X_test['lat'], best_reg_chosen.predict(np.array(X_test_chosen)), c='red')\n",
    "plt.show()\n",
    "print(mse_chosen)"
   ]
  },
  {
   "cell_type": "code",
   "execution_count": 37,
   "metadata": {},
   "outputs": [
    {
     "data": {
      "text/plain": "<Figure size 432x288 with 1 Axes>",
      "image/png": "[encoded data removed]"
     },
     "metadata": {
      "needs_background": "light"
     },
     "output_type": "display_data"
    },
    {
     "name": "stdout",
     "output_type": "stream",
     "text": [
      "53636070123.60734\n",
      "44336787601.35835\n"
     ]
    },
    {
     "data": {
      "text/plain": "<Figure size 432x288 with 1 Axes>",
      "image/png": "[encoded data removed]"
     },
     "metadata": {
      "needs_background": "light"
     },
     "output_type": "display_data"
    }
   ],
   "source": [
    "mse = 100000000000000000000000000\n",
    "mse_chosen = 10000000000000000000000\n",
    "\n",
    "for degree in degrees:\n",
    "    reg = regression(degree=degree, method='normal_equation')\n",
    "    reg.train(np.array(X_train), np.array(y_train), learning_rate, iteration)\n",
    "    err = mean_squared_error(y_test, reg.predict(np.array(X_test)))\n",
    "    if err < mse:\n",
    "        mse = err\n",
    "        best_reg = reg\n",
    "\n",
    "    reg_chosen = regression(degree=degree, method='normal_equation')\n",
    "    reg_chosen.train(np.array(X_train_chosen), np.array(y_train), learning_rate, iteration)\n",
    "    err = mean_squared_error(y_test, reg_chosen.predict(np.array(X_test_chosen)))\n",
    "    if err < mse_chosen:\n",
    "        mse_chosen = err\n",
    "        best_reg_chosen = reg_chosen\n",
    "\n",
    "plt.scatter(X_train['lat'], y_train, c='blue')\n",
    "# plt.scatter(X_test['lat'], best_reg.predict(np.array(X_test)), c='red')\n",
    "plt.show()\n",
    "print(mse)\n",
    "\n",
    "plt.scatter(X_train['lat'], y_train, c='blue')\n",
    "# plt.scatter(X_test['lat'], best_reg_chosen.predict(np.array(X_test_chosen)), c='red')\n",
    "plt.show()\n",
    "print(mse_chosen)"
   ]
  },
  {
   "cell_type": "code",
   "execution_count": null,
   "metadata": {},
   "outputs": [],
   "source": []
  }
 ],
 "metadata": {
  "kernelspec": {
   "display_name": "Python 3",
   "language": "python",
   "name": "python3"
  },
  "language_info": {
   "codemirror_mode": {
    "name": "ipython",
    "version": 3
   },
   "file_extension": ".py",
   "mimetype": "text/x-python",
   "name": "python",
   "nbconvert_exporter": "python",
   "pygments_lexer": "ipython3",
   "version": "3.8.3"
  }
 },
 "nbformat": 4,
 "nbformat_minor": 4
}