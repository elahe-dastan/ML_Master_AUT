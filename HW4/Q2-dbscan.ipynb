{
 "cells": [
  {
   "cell_type": "code",
   "execution_count": 1,
   "metadata": {},
   "outputs": [],
   "source": [
    "import pandas as pd\n",
    "import matplotlib.pyplot as plt\n",
    "import numpy as np\n",
    "from queue import Queue\n",
    "\n",
    "colors = [\"black\",\"red\",\"green\",\"blue\",\"yellow\",\"pink\",\"orange\",\"purple\",\"beige\",\"brown\",\"gray\",\"cyan\",\"magenta\"]"
   ]
  },
  {
   "cell_type": "code",
   "execution_count": 2,
   "metadata": {},
   "outputs": [],
   "source": [
    "class dbscan():\n",
    "    def __init__(self,df, epsilon=1, min_points=5):\n",
    "        self.df = df.to_numpy()\n",
    "        self.epsilon = epsilon\n",
    "        self.min_points = min_points\n",
    "        self.cluster_label = 0\n",
    "        self.noise = 0\n",
    "        self.n = self.df.shape[0]\n",
    "        \n",
    "    def fit(self):\n",
    "        \"Fit the data\"\n",
    "        \n",
    "        # Create labels column initialized to -1 (unclassified)\n",
    "        self.df = np.append(self.df, np.array([[-1]*self.n]).reshape(-1,1), axis=1)\n",
    "        \n",
    "        for i in range(self.n):\n",
    "            \n",
    "            # if the point is not labled already then search for neighbors\n",
    "            if self.df[i,2] != -1:\n",
    "                continue\n",
    "            \n",
    "            # find neighbors\n",
    "            p = self.df[i,:2]\n",
    "            neighbors = self.rangeQuery(p)\n",
    "            \n",
    "            # If less neighbors than min_points then label as noise and continue\n",
    "            if len(neighbors) < self.min_points:\n",
    "                self.df[i,2] = self.noise\n",
    "                continue\n",
    "                \n",
    "            # increment cluster label\n",
    "            self.cluster_label += 1\n",
    "\n",
    "            # set current row to new cluster label\n",
    "            self.df[i,2] = self.cluster_label\n",
    "\n",
    "            # create seed set to hold all neighbors of cluster including the neighbors already found\n",
    "            found_neighbors = neighbors\n",
    "            \n",
    "            # create Queue to fold all neighbors of cluster\n",
    "            q = Queue()\n",
    "            \n",
    "            # add original neighbors\n",
    "            for x in neighbors:\n",
    "                q.put(x)\n",
    "            \n",
    "            # While isnt empty label new neighbors to cluster\n",
    "            while not q.empty():\n",
    "                \n",
    "                current = q.get()\n",
    "                \n",
    "                # if cur_row labled noise then change to cluster label (border point)\n",
    "                if self.df[current,2] == 0:\n",
    "                    self.df[current,2] = self.cluster_label\n",
    "\n",
    "                # If label is not -1(unclassified) then continue\n",
    "                if self.df[current,2] != -1:\n",
    "                    continue\n",
    "                    \n",
    "                # label the neighbor\n",
    "                self.df[current,2] = self.cluster_label\n",
    "\n",
    "                # look for neightbors of cur_row\n",
    "                point = self.df[current,:2]\n",
    "                neighbors2 = self.rangeQuery(point)\n",
    "                \n",
    "                # if neighbors2 >= min_points then add those neighbors to seed_set\n",
    "                if len(neighbors2) >= self.min_points:\n",
    "\n",
    "                    for x in neighbors2:\n",
    "                        if x not in found_neighbors:\n",
    "                            q.put(x)\n",
    "                            found_neighbors.append(x)                           \n",
    "    \n",
    "    def rangeQuery(self, x):\n",
    "        \"\"\"Query database against x and return all points that are <= epsilon\"\"\"\n",
    "        \n",
    "        neighbors = []\n",
    "        \n",
    "        for j in range(self.n):\n",
    "            q = self.df[j, :2]\n",
    "            if self.dist(x, q) <= self.epsilon:\n",
    "                neighbors.append(j)\n",
    "        \n",
    "        return neighbors\n",
    "    \n",
    "    def dist(self, point1, point2):\n",
    "        \"\"\"Euclid distance function\"\"\"\n",
    "        \n",
    "        x1 = point1[0]\n",
    "        x2 = point2[0]\n",
    "        y1 = point1[1]\n",
    "        y2 = point2[1]\n",
    "        \n",
    "        # create the points \n",
    "        p1 = (x1 - x2)**2\n",
    "        p2 = (y1 - y2)**2\n",
    "\n",
    "        return np.sqrt(p1 + p2)\n",
    "    \n",
    "    def show(self):\n",
    "        labels = np.unique(self.df[:, 2])\n",
    "        for label in range(len(labels)):\n",
    "            cluster = self.df[self.df[:, 2] == label]\n",
    "            plt.scatter(cluster[:, 0], cluster[:, 1], c=colors[label])"
   ]
  },
  {
   "cell_type": "code",
   "execution_count": 3,
   "metadata": {},
   "outputs": [],
   "source": [
    "def purity(labels, pred):\n",
    "    print(len(labels[labels == pred]))\n",
    "    return len(labels[labels == pred])/ len(labels)"
   ]
  },
  {
   "cell_type": "code",
   "execution_count": 4,
   "metadata": {},
   "outputs": [
    {
     "name": "stdout",
     "output_type": "stream",
     "text": [
      "<class 'pandas.core.frame.DataFrame'>\n",
      "RangeIndex: 399 entries, 0 to 398\n",
      "Data columns (total 3 columns):\n",
      " #   Column  Non-Null Count  Dtype  \n",
      "---  ------  --------------  -----  \n",
      " 0   0       399 non-null    float64\n",
      " 1   1       399 non-null    float64\n",
      " 2   2       399 non-null    int64  \n",
      "dtypes: float64(2), int64(1)\n",
      "memory usage: 9.5 KB\n",
      "[[26.75 22.15  0.  ]\n",
      " [29.8  22.15  0.  ]\n",
      " [31.55 21.1   0.  ]\n",
      " ...\n",
      " [15.6   9.45  6.  ]\n",
      " [15.3   9.15  6.  ]\n",
      " [15.1   9.55  6.  ]]\n"
     ]
    }
   ],
   "source": [
    "data = pd.read_csv(\"q2-data/Compound.csv\", sep='\\t', header=None)\n",
    "data.info()\n",
    "\n",
    "obj = dbscan(data.iloc[:, 0:2], epsilon=1.5, min_points=3)\n",
    "obj.fit()\n",
    "print(obj.df)"
   ]
  },
  {
   "cell_type": "code",
   "execution_count": 5,
   "metadata": {},
   "outputs": [
    {
     "name": "stdout",
     "output_type": "stream",
     "text": [
      "270\n",
      "purity is  0.6766917293233082\n"
     ]
    },
    {
     "data": {
      "image/png": "[encoded data removed]",
      "text/plain": [
       "<Figure size 432x288 with 1 Axes>"
      ]
     },
     "metadata": {
      "needs_background": "light"
     },
     "output_type": "display_data"
    }
   ],
   "source": [
    "obj.show()\n",
    "print(\"purity is \", purity(data.iloc[:, 2], obj.df[:, 2]))"
   ]
  },
  {
   "cell_type": "code",
   "execution_count": 6,
   "metadata": {},
   "outputs": [
    {
     "name": "stdout",
     "output_type": "stream",
     "text": [
      "<class 'pandas.core.frame.DataFrame'>\n",
      "RangeIndex: 3100 entries, 0 to 3099\n",
      "Data columns (total 3 columns):\n",
      " #   Column  Non-Null Count  Dtype  \n",
      "---  ------  --------------  -----  \n",
      " 0   0       3100 non-null   float64\n",
      " 1   1       3100 non-null   float64\n",
      " 2   2       3100 non-null   int64  \n",
      "dtypes: float64(2), int64(1)\n",
      "memory usage: 72.8 KB\n",
      "[[25.0514  5.7475  1.    ]\n",
      " [26.6614  7.3414  1.    ]\n",
      " [25.2653  6.2466  1.    ]\n",
      " ...\n",
      " [ 5.276  17.2475  4.    ]\n",
      " [ 6.4444 16.2033  4.    ]\n",
      " [ 7.162  18.1836  4.    ]]\n"
     ]
    }
   ],
   "source": [
    "data = pd.read_csv(\"q2-data/D31.csv\", sep='\\t', header=None)\n",
    "data.info()\n",
    "\n",
    "obj = dbscan(data.iloc[:, 0:2], epsilon=0.75, min_points=5)\n",
    "obj.fit()\n",
    "print(obj.df)"
   ]
  },
  {
   "cell_type": "code",
   "execution_count": 7,
   "metadata": {},
   "outputs": [
    {
     "name": "stdout",
     "output_type": "stream",
     "text": [
      "298\n",
      "purity is  0.09612903225806452\n"
     ]
    },
    {
     "data": {
      "image/png": "[encoded data removed]",
      "text/plain": [
       "<Figure size 432x288 with 1 Axes>"
      ]
     },
     "metadata": {
      "needs_background": "light"
     },
     "output_type": "display_data"
    }
   ],
   "source": [
    "obj.show()\n",
    "print(\"purity is \", purity(data.iloc[:, 2], obj.df[:, 2]))"
   ]
  },
  {
   "cell_type": "code",
   "execution_count": 10,
   "metadata": {},
   "outputs": [
    {
     "name": "stdout",
     "output_type": "stream",
     "text": [
      "<class 'pandas.core.frame.DataFrame'>\n",
      "RangeIndex: 312 entries, 0 to 311\n",
      "Data columns (total 3 columns):\n",
      " #   Column  Non-Null Count  Dtype  \n",
      "---  ------  --------------  -----  \n",
      " 0   0       312 non-null    float64\n",
      " 1   1       312 non-null    float64\n",
      " 2   2       312 non-null    int64  \n",
      "dtypes: float64(2), int64(1)\n",
      "memory usage: 7.4 KB\n"
     ]
    }
   ],
   "source": [
    "data = pd.read_csv(\"q2-data/spiral.csv\", sep='\\t', header=None)\n",
    "data.info()\n",
    "\n",
    "obj = dbscan(data.iloc[:, 0:2], epsilon=1.5, min_points=5)\n",
    "obj.fit()"
   ]
  },
  {
   "cell_type": "code",
   "execution_count": 11,
   "metadata": {},
   "outputs": [
    {
     "name": "stdout",
     "output_type": "stream",
     "text": [
      "0\n",
      "purity is  0.0\n"
     ]
    },
    {
     "data": {
      "image/png": "[encoded data removed]",
      "text/plain": [
       "<Figure size 432x288 with 1 Axes>"
      ]
     },
     "metadata": {
      "needs_background": "light"
     },
     "output_type": "display_data"
    }
   ],
   "source": [
    "obj.show()\n",
    "print(\"purity is \", purity(data.iloc[:, 2], obj.df[:, 2]))"
   ]
  },
  {
   "cell_type": "code",
   "execution_count": null,
   "metadata": {},
   "outputs": [],
   "source": []
  }
 ],
 "metadata": {
  "kernelspec": {
   "display_name": "Python 3",
   "language": "python",
   "name": "python3"
  },
  "language_info": {
   "codemirror_mode": {
    "name": "ipython",
    "version": 3
   },
   "file_extension": ".py",
   "mimetype": "text/x-python",
   "name": "python",
   "nbconvert_exporter": "python",
   "pygments_lexer": "ipython3",
   "version": "3.8.3"
  }
 },
 "nbformat": 4,
 "nbformat_minor": 4
}
